{
  "nbformat": 4,
  "nbformat_minor": 0,
  "metadata": {
    "colab": {
      "provenance": [],
      "authorship_tag": "ABX9TyPXPQWV2bHrNoWN2TlK8X5t",
      "include_colab_link": true
    },
    "kernelspec": {
      "name": "python3",
      "display_name": "Python 3"
    },
    "language_info": {
      "name": "python"
    }
  },
  "cells": [
    {
      "cell_type": "markdown",
      "metadata": {
        "id": "view-in-github",
        "colab_type": "text"
      },
      "source": [
        "<a href=\"https://colab.research.google.com/github/alexanderjoe/CS1164-FinalProject/blob/main/FinalProject.ipynb\" target=\"_parent\"><img src=\"https://colab.research.google.com/assets/colab-badge.svg\" alt=\"Open In Colab\"/></a>"
      ]
    },
    {
      "cell_type": "markdown",
      "source": [
        "# CS 1164 Machine Learning - Final Project\n",
        "\n",
        "Group Members:\n",
        "- Alexander Diaz\n",
        "- Gavin Wieckowski"
      ],
      "metadata": {
        "id": "2z4Wh0XEQJJj"
      }
    },
    {
      "cell_type": "markdown",
      "source": [
        "(0) Import required dependencies for the project"
      ],
      "metadata": {
        "id": "m8NTsBU0QUOk"
      }
    },
    {
      "cell_type": "code",
      "execution_count": null,
      "metadata": {
        "id": "JG35oYw7PZXE"
      },
      "outputs": [],
      "source": [
        "# Setup Dependencies\n",
        "import numpy as np\n",
        "import pandas as pd\n",
        "import matplotlib.pyplot as plt\n",
        "%matplotlib inline\n",
        "\n",
        "# PCA Dependencies\n",
        "from sklearn.decomposition import PCA\n",
        "from sklearn.preprocessing import StandardScaler"
      ]
    },
    {
      "cell_type": "markdown",
      "source": [
        "(1) Load And Clean Data"
      ],
      "metadata": {
        "id": "gavp1UzKQczw"
      }
    },
    {
      "cell_type": "code",
      "source": [
        "# todo"
      ],
      "metadata": {
        "id": "rPo59ExwQgey"
      },
      "execution_count": null,
      "outputs": []
    },
    {
      "cell_type": "markdown",
      "source": [
        "(2) Dimensionality Reduction"
      ],
      "metadata": {
        "id": "n9fNHdlQQhmv"
      }
    },
    {
      "cell_type": "code",
      "source": [
        "#todo"
      ],
      "metadata": {
        "id": "NL8MrqilQoru"
      },
      "execution_count": null,
      "outputs": []
    },
    {
      "cell_type": "markdown",
      "source": [
        "(3) Training Model"
      ],
      "metadata": {
        "id": "scA43L8JQpqJ"
      }
    },
    {
      "cell_type": "code",
      "source": [
        "# todo"
      ],
      "metadata": {
        "id": "XQibOKjEQsrY"
      },
      "execution_count": null,
      "outputs": []
    },
    {
      "cell_type": "markdown",
      "source": [
        "(4) Evaluate Model"
      ],
      "metadata": {
        "id": "MfFvSEuSQtok"
      }
    },
    {
      "cell_type": "code",
      "source": [
        "# todo"
      ],
      "metadata": {
        "id": "NMArnuJ6Qwb5"
      },
      "execution_count": null,
      "outputs": []
    },
    {
      "cell_type": "markdown",
      "source": [
        "(5) Lessons Learned\n",
        "\n",
        "TODO..."
      ],
      "metadata": {
        "id": "4ALIvQpwQ4hU"
      }
    }
  ]
}