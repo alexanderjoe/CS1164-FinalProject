{
  "cells": [
    {
      "cell_type": "markdown",
      "metadata": {
        "id": "2z4Wh0XEQJJj"
      },
      "source": [
        "# CS 1164 Machine Learning - Final Project\n",
        "\n",
        "Group Members:\n",
        "- Alexander Diaz\n",
        "- Gavin Wieckowski"
      ]
    },
    {
      "cell_type": "markdown",
      "metadata": {
        "id": "m8NTsBU0QUOk"
      },
      "source": [
        "## (0) Import required dependencies for the project"
      ]
    },
    {
      "cell_type": "code",
      "execution_count": 1,
      "metadata": {
        "id": "JG35oYw7PZXE"
      },
      "outputs": [
        {
          "name": "stdout",
          "output_type": "stream",
          "text": [
            "3.2.1\n",
            "2.16.1\n"
          ]
        }
      ],
      "source": [
        "# Setup Dependencies\n",
        "import numpy as np\n",
        "import pandas as pd\n",
        "import keras\n",
        "import tensorflow as tf\n",
        "from keras.models import Sequential\n",
        "import matplotlib.pyplot as plt\n",
        "%matplotlib inline\n",
        "\n",
        "# PCA Dependencies\n",
        "from sklearn.decomposition import PCA\n",
        "from sklearn.preprocessing import StandardScaler\n",
        "from sklearn.preprocessing import LabelEncoder\n",
        "from sklearn.model_selection import train_test_split\n",
        "from sklearn.metrics import classification_report, confusion_matrix, accuracy_score, precision_score, recall_score, f1_score\n",
        "\n",
        "print(keras.__version__)\n",
        "print(tf.__version__)"
      ]
    },
    {
      "cell_type": "markdown",
      "metadata": {
        "id": "gavp1UzKQczw"
      },
      "source": [
        "## (1) Load And Clean Data"
      ]
    },
    {
      "cell_type": "code",
      "execution_count": 2,
      "metadata": {
        "colab": {
          "base_uri": "https://localhost:8080/",
          "height": 206
        },
        "id": "rPo59ExwQgey",
        "outputId": "f5a6d47a-ae46-4161-c129-61d0609fe71b"
      },
      "outputs": [
        {
          "data": {
            "text/html": [
              "<div>\n",
              "<style scoped>\n",
              "    .dataframe tbody tr th:only-of-type {\n",
              "        vertical-align: middle;\n",
              "    }\n",
              "\n",
              "    .dataframe tbody tr th {\n",
              "        vertical-align: top;\n",
              "    }\n",
              "\n",
              "    .dataframe thead th {\n",
              "        text-align: right;\n",
              "    }\n",
              "</style>\n",
              "<table border=\"1\" class=\"dataframe\">\n",
              "  <thead>\n",
              "    <tr style=\"text-align: right;\">\n",
              "      <th></th>\n",
              "      <th>obj_ID</th>\n",
              "      <th>alpha</th>\n",
              "      <th>delta</th>\n",
              "      <th>u</th>\n",
              "      <th>g</th>\n",
              "      <th>r</th>\n",
              "      <th>i</th>\n",
              "      <th>z</th>\n",
              "      <th>run_ID</th>\n",
              "      <th>rerun_ID</th>\n",
              "      <th>cam_col</th>\n",
              "      <th>field_ID</th>\n",
              "      <th>spec_obj_ID</th>\n",
              "      <th>class</th>\n",
              "      <th>redshift</th>\n",
              "      <th>plate</th>\n",
              "      <th>MJD</th>\n",
              "      <th>fiber_ID</th>\n",
              "    </tr>\n",
              "  </thead>\n",
              "  <tbody>\n",
              "    <tr>\n",
              "      <th>0</th>\n",
              "      <td>1.237661e+18</td>\n",
              "      <td>135.689107</td>\n",
              "      <td>32.494632</td>\n",
              "      <td>23.87882</td>\n",
              "      <td>22.27530</td>\n",
              "      <td>20.39501</td>\n",
              "      <td>19.16573</td>\n",
              "      <td>18.79371</td>\n",
              "      <td>3606</td>\n",
              "      <td>301</td>\n",
              "      <td>2</td>\n",
              "      <td>79</td>\n",
              "      <td>6.543777e+18</td>\n",
              "      <td>GALAXY</td>\n",
              "      <td>0.634794</td>\n",
              "      <td>5812</td>\n",
              "      <td>56354</td>\n",
              "      <td>171</td>\n",
              "    </tr>\n",
              "    <tr>\n",
              "      <th>1</th>\n",
              "      <td>1.237665e+18</td>\n",
              "      <td>144.826101</td>\n",
              "      <td>31.274185</td>\n",
              "      <td>24.77759</td>\n",
              "      <td>22.83188</td>\n",
              "      <td>22.58444</td>\n",
              "      <td>21.16812</td>\n",
              "      <td>21.61427</td>\n",
              "      <td>4518</td>\n",
              "      <td>301</td>\n",
              "      <td>5</td>\n",
              "      <td>119</td>\n",
              "      <td>1.176014e+19</td>\n",
              "      <td>GALAXY</td>\n",
              "      <td>0.779136</td>\n",
              "      <td>10445</td>\n",
              "      <td>58158</td>\n",
              "      <td>427</td>\n",
              "    </tr>\n",
              "    <tr>\n",
              "      <th>2</th>\n",
              "      <td>1.237661e+18</td>\n",
              "      <td>142.188790</td>\n",
              "      <td>35.582444</td>\n",
              "      <td>25.26307</td>\n",
              "      <td>22.66389</td>\n",
              "      <td>20.60976</td>\n",
              "      <td>19.34857</td>\n",
              "      <td>18.94827</td>\n",
              "      <td>3606</td>\n",
              "      <td>301</td>\n",
              "      <td>2</td>\n",
              "      <td>120</td>\n",
              "      <td>5.152200e+18</td>\n",
              "      <td>GALAXY</td>\n",
              "      <td>0.644195</td>\n",
              "      <td>4576</td>\n",
              "      <td>55592</td>\n",
              "      <td>299</td>\n",
              "    </tr>\n",
              "    <tr>\n",
              "      <th>3</th>\n",
              "      <td>1.237663e+18</td>\n",
              "      <td>338.741038</td>\n",
              "      <td>-0.402828</td>\n",
              "      <td>22.13682</td>\n",
              "      <td>23.77656</td>\n",
              "      <td>21.61162</td>\n",
              "      <td>20.50454</td>\n",
              "      <td>19.25010</td>\n",
              "      <td>4192</td>\n",
              "      <td>301</td>\n",
              "      <td>3</td>\n",
              "      <td>214</td>\n",
              "      <td>1.030107e+19</td>\n",
              "      <td>GALAXY</td>\n",
              "      <td>0.932346</td>\n",
              "      <td>9149</td>\n",
              "      <td>58039</td>\n",
              "      <td>775</td>\n",
              "    </tr>\n",
              "    <tr>\n",
              "      <th>4</th>\n",
              "      <td>1.237680e+18</td>\n",
              "      <td>345.282593</td>\n",
              "      <td>21.183866</td>\n",
              "      <td>19.43718</td>\n",
              "      <td>17.58028</td>\n",
              "      <td>16.49747</td>\n",
              "      <td>15.97711</td>\n",
              "      <td>15.54461</td>\n",
              "      <td>8102</td>\n",
              "      <td>301</td>\n",
              "      <td>3</td>\n",
              "      <td>137</td>\n",
              "      <td>6.891865e+18</td>\n",
              "      <td>GALAXY</td>\n",
              "      <td>0.116123</td>\n",
              "      <td>6121</td>\n",
              "      <td>56187</td>\n",
              "      <td>842</td>\n",
              "    </tr>\n",
              "  </tbody>\n",
              "</table>\n",
              "</div>"
            ],
            "text/plain": [
              "         obj_ID       alpha      delta         u         g         r  \\\n",
              "0  1.237661e+18  135.689107  32.494632  23.87882  22.27530  20.39501   \n",
              "1  1.237665e+18  144.826101  31.274185  24.77759  22.83188  22.58444   \n",
              "2  1.237661e+18  142.188790  35.582444  25.26307  22.66389  20.60976   \n",
              "3  1.237663e+18  338.741038  -0.402828  22.13682  23.77656  21.61162   \n",
              "4  1.237680e+18  345.282593  21.183866  19.43718  17.58028  16.49747   \n",
              "\n",
              "          i         z  run_ID  rerun_ID  cam_col  field_ID   spec_obj_ID  \\\n",
              "0  19.16573  18.79371    3606       301        2        79  6.543777e+18   \n",
              "1  21.16812  21.61427    4518       301        5       119  1.176014e+19   \n",
              "2  19.34857  18.94827    3606       301        2       120  5.152200e+18   \n",
              "3  20.50454  19.25010    4192       301        3       214  1.030107e+19   \n",
              "4  15.97711  15.54461    8102       301        3       137  6.891865e+18   \n",
              "\n",
              "    class  redshift  plate    MJD  fiber_ID  \n",
              "0  GALAXY  0.634794   5812  56354       171  \n",
              "1  GALAXY  0.779136  10445  58158       427  \n",
              "2  GALAXY  0.644195   4576  55592       299  \n",
              "3  GALAXY  0.932346   9149  58039       775  \n",
              "4  GALAXY  0.116123   6121  56187       842  "
            ]
          },
          "execution_count": 2,
          "metadata": {},
          "output_type": "execute_result"
        }
      ],
      "source": [
        "# import data/star_classification.csv\n",
        "data = pd.read_csv('data/star_classification.csv')\n",
        "data.head()"
      ]
    },
    {
      "cell_type": "code",
      "execution_count": 3,
      "metadata": {
        "colab": {
          "base_uri": "https://localhost:8080/",
          "height": 206
        },
        "id": "RzaXvUrJ4awQ",
        "outputId": "46d700de-fa63-4706-940d-1432cf99fad0"
      },
      "outputs": [
        {
          "data": {
            "text/html": [
              "<div>\n",
              "<style scoped>\n",
              "    .dataframe tbody tr th:only-of-type {\n",
              "        vertical-align: middle;\n",
              "    }\n",
              "\n",
              "    .dataframe tbody tr th {\n",
              "        vertical-align: top;\n",
              "    }\n",
              "\n",
              "    .dataframe thead th {\n",
              "        text-align: right;\n",
              "    }\n",
              "</style>\n",
              "<table border=\"1\" class=\"dataframe\">\n",
              "  <thead>\n",
              "    <tr style=\"text-align: right;\">\n",
              "      <th></th>\n",
              "      <th>obj_ID</th>\n",
              "      <th>alpha</th>\n",
              "      <th>delta</th>\n",
              "      <th>u</th>\n",
              "      <th>g</th>\n",
              "      <th>r</th>\n",
              "      <th>i</th>\n",
              "      <th>z</th>\n",
              "      <th>run_ID</th>\n",
              "      <th>rerun_ID</th>\n",
              "      <th>cam_col</th>\n",
              "      <th>field_ID</th>\n",
              "      <th>spec_obj_ID</th>\n",
              "      <th>redshift</th>\n",
              "      <th>plate</th>\n",
              "      <th>MJD</th>\n",
              "      <th>fiber_ID</th>\n",
              "    </tr>\n",
              "  </thead>\n",
              "  <tbody>\n",
              "    <tr>\n",
              "      <th>0</th>\n",
              "      <td>1.237661e+18</td>\n",
              "      <td>135.689107</td>\n",
              "      <td>32.494632</td>\n",
              "      <td>23.87882</td>\n",
              "      <td>22.27530</td>\n",
              "      <td>20.39501</td>\n",
              "      <td>19.16573</td>\n",
              "      <td>18.79371</td>\n",
              "      <td>3606</td>\n",
              "      <td>301</td>\n",
              "      <td>2</td>\n",
              "      <td>79</td>\n",
              "      <td>6.543777e+18</td>\n",
              "      <td>0.634794</td>\n",
              "      <td>5812</td>\n",
              "      <td>56354</td>\n",
              "      <td>171</td>\n",
              "    </tr>\n",
              "    <tr>\n",
              "      <th>1</th>\n",
              "      <td>1.237665e+18</td>\n",
              "      <td>144.826101</td>\n",
              "      <td>31.274185</td>\n",
              "      <td>24.77759</td>\n",
              "      <td>22.83188</td>\n",
              "      <td>22.58444</td>\n",
              "      <td>21.16812</td>\n",
              "      <td>21.61427</td>\n",
              "      <td>4518</td>\n",
              "      <td>301</td>\n",
              "      <td>5</td>\n",
              "      <td>119</td>\n",
              "      <td>1.176014e+19</td>\n",
              "      <td>0.779136</td>\n",
              "      <td>10445</td>\n",
              "      <td>58158</td>\n",
              "      <td>427</td>\n",
              "    </tr>\n",
              "    <tr>\n",
              "      <th>2</th>\n",
              "      <td>1.237661e+18</td>\n",
              "      <td>142.188790</td>\n",
              "      <td>35.582444</td>\n",
              "      <td>25.26307</td>\n",
              "      <td>22.66389</td>\n",
              "      <td>20.60976</td>\n",
              "      <td>19.34857</td>\n",
              "      <td>18.94827</td>\n",
              "      <td>3606</td>\n",
              "      <td>301</td>\n",
              "      <td>2</td>\n",
              "      <td>120</td>\n",
              "      <td>5.152200e+18</td>\n",
              "      <td>0.644195</td>\n",
              "      <td>4576</td>\n",
              "      <td>55592</td>\n",
              "      <td>299</td>\n",
              "    </tr>\n",
              "    <tr>\n",
              "      <th>3</th>\n",
              "      <td>1.237663e+18</td>\n",
              "      <td>338.741038</td>\n",
              "      <td>-0.402828</td>\n",
              "      <td>22.13682</td>\n",
              "      <td>23.77656</td>\n",
              "      <td>21.61162</td>\n",
              "      <td>20.50454</td>\n",
              "      <td>19.25010</td>\n",
              "      <td>4192</td>\n",
              "      <td>301</td>\n",
              "      <td>3</td>\n",
              "      <td>214</td>\n",
              "      <td>1.030107e+19</td>\n",
              "      <td>0.932346</td>\n",
              "      <td>9149</td>\n",
              "      <td>58039</td>\n",
              "      <td>775</td>\n",
              "    </tr>\n",
              "    <tr>\n",
              "      <th>4</th>\n",
              "      <td>1.237680e+18</td>\n",
              "      <td>345.282593</td>\n",
              "      <td>21.183866</td>\n",
              "      <td>19.43718</td>\n",
              "      <td>17.58028</td>\n",
              "      <td>16.49747</td>\n",
              "      <td>15.97711</td>\n",
              "      <td>15.54461</td>\n",
              "      <td>8102</td>\n",
              "      <td>301</td>\n",
              "      <td>3</td>\n",
              "      <td>137</td>\n",
              "      <td>6.891865e+18</td>\n",
              "      <td>0.116123</td>\n",
              "      <td>6121</td>\n",
              "      <td>56187</td>\n",
              "      <td>842</td>\n",
              "    </tr>\n",
              "  </tbody>\n",
              "</table>\n",
              "</div>"
            ],
            "text/plain": [
              "         obj_ID       alpha      delta         u         g         r  \\\n",
              "0  1.237661e+18  135.689107  32.494632  23.87882  22.27530  20.39501   \n",
              "1  1.237665e+18  144.826101  31.274185  24.77759  22.83188  22.58444   \n",
              "2  1.237661e+18  142.188790  35.582444  25.26307  22.66389  20.60976   \n",
              "3  1.237663e+18  338.741038  -0.402828  22.13682  23.77656  21.61162   \n",
              "4  1.237680e+18  345.282593  21.183866  19.43718  17.58028  16.49747   \n",
              "\n",
              "          i         z  run_ID  rerun_ID  cam_col  field_ID   spec_obj_ID  \\\n",
              "0  19.16573  18.79371    3606       301        2        79  6.543777e+18   \n",
              "1  21.16812  21.61427    4518       301        5       119  1.176014e+19   \n",
              "2  19.34857  18.94827    3606       301        2       120  5.152200e+18   \n",
              "3  20.50454  19.25010    4192       301        3       214  1.030107e+19   \n",
              "4  15.97711  15.54461    8102       301        3       137  6.891865e+18   \n",
              "\n",
              "   redshift  plate    MJD  fiber_ID  \n",
              "0  0.634794   5812  56354       171  \n",
              "1  0.779136  10445  58158       427  \n",
              "2  0.644195   4576  55592       299  \n",
              "3  0.932346   9149  58039       775  \n",
              "4  0.116123   6121  56187       842  "
            ]
          },
          "execution_count": 3,
          "metadata": {},
          "output_type": "execute_result"
        }
      ],
      "source": [
        "# Clean the data\n",
        "data = data.dropna()\n",
        "data = data.drop_duplicates()\n",
        "cdata = data.drop(['class'], axis=1) # drop class column so we can predict it later\n",
        "cdata.head()"
      ]
    },
    {
      "cell_type": "code",
      "execution_count": 4,
      "metadata": {
        "id": "vjT1AWoz4awS"
      },
      "outputs": [],
      "source": [
        "# Create numeric classes for the class column\n",
        "# useful for plotting\n",
        "label_encoder = LabelEncoder()\n",
        "numeric_classes = label_encoder.fit_transform(data['class'])"
      ]
    },
    {
      "cell_type": "markdown",
      "metadata": {
        "id": "n9fNHdlQQhmv"
      },
      "source": [
        "## (2) Dimensionality Reduction"
      ]
    },
    {
      "cell_type": "markdown",
      "metadata": {},
      "source": [
        "### Data described\n",
        "[Stellar Classification Dataset](https://www.kaggle.com/datasets/fedesoriano/stellar-classification-dataset-sdss17)\n",
        "\n",
        "\n",
        "The dataset chosen for this project is used to predict stellar objects based on around 18 different attributes. We chose to predict the class of the object so that field was removed from dataset so that we can predict it later.\n",
        "\n",
        "This list is pulled directly from the Kaggle page about the datasheet.\n",
        "1. obj_ID = Object Identifier, the unique value that identifies the object in the image catalog used by the CAS\n",
        "2. alpha = Right Ascension angle (at J2000 epoch)\n",
        "3. delta = Declination angle (at J2000 epoch)\n",
        "4. u = Ultraviolet filter in the photometric system\n",
        "5. g = Green filter in the photometric system\n",
        "6. r = Red filter in the photometric system\n",
        "7. i = Near Infrared filter in the photometric system\n",
        "8. z = Infrared filter in the photometric system\n",
        "9. run_ID = Run Number used to identify the specific scan\n",
        "10. rereun_ID = Rerun Number to specify how the image was processed\n",
        "11. cam_col = Camera column to identify the scanline within the run\n",
        "12. field_ID = Field number to identify each field\n",
        "13. spec_obj_ID = Unique ID used for optical spectroscopic objects (this means that 2 different observations with the same spec_obj_ID must share the output class)\n",
        "14. class = object class (galaxy, star or quasar object)\n",
        "15. redshift = redshift value based on the increase in wavelength\n",
        "16. plate = plate ID, identifies each plate in SDSS\n",
        "17. MJD = Modified Julian Date, used to indicate when a given piece of SDSS data was taken\n",
        "18. fiber_ID = fiber ID that identifies the fiber that pointed the light at the focal plane in each observation"
      ]
    },
    {
      "cell_type": "code",
      "execution_count": 5,
      "metadata": {},
      "outputs": [
        {
          "name": "stdout",
          "output_type": "stream",
          "text": [
            "Number of instances:  100000\n",
            "\n",
            "Number of attributes:  18\n",
            "\n",
            "Domain:  Index(['obj_ID', 'alpha', 'delta', 'u', 'g', 'r', 'i', 'z', 'run_ID',\n",
            "       'rerun_ID', 'cam_col', 'field_ID', 'spec_obj_ID', 'class', 'redshift',\n",
            "       'plate', 'MJD', 'fiber_ID'],\n",
            "      dtype='object')\n",
            "\n",
            "Type of attributes:  obj_ID         float64\n",
            "alpha          float64\n",
            "delta          float64\n",
            "u              float64\n",
            "g              float64\n",
            "r              float64\n",
            "i              float64\n",
            "z              float64\n",
            "run_ID           int64\n",
            "rerun_ID         int64\n",
            "cam_col          int64\n",
            "field_ID         int64\n",
            "spec_obj_ID    float64\n",
            "class           object\n",
            "redshift       float64\n",
            "plate            int64\n",
            "MJD              int64\n",
            "fiber_ID         int64\n",
            "dtype: object\n",
            "\n",
            "Relevant information:               obj_ID          alpha          delta              u  \\\n",
            "count  1.000000e+05  100000.000000  100000.000000  100000.000000   \n",
            "mean   1.237665e+18     177.629117      24.135305      21.980468   \n",
            "std    8.438560e+12      96.502241      19.644665      31.769291   \n",
            "min    1.237646e+18       0.005528     -18.785328   -9999.000000   \n",
            "25%    1.237659e+18     127.518222       5.146771      20.352353   \n",
            "50%    1.237663e+18     180.900700      23.645922      22.179135   \n",
            "75%    1.237668e+18     233.895005      39.901550      23.687440   \n",
            "max    1.237681e+18     359.999810      83.000519      32.781390   \n",
            "\n",
            "                   g              r              i              z  \\\n",
            "count  100000.000000  100000.000000  100000.000000  100000.000000   \n",
            "mean       20.531387      19.645762      19.084854      18.668810   \n",
            "std        31.750292       1.854760       1.757895      31.728152   \n",
            "min     -9999.000000       9.822070       9.469903   -9999.000000   \n",
            "25%        18.965230      18.135828      17.732285      17.460677   \n",
            "50%        21.099835      20.125290      19.405145      19.004595   \n",
            "75%        22.123767      21.044785      20.396495      19.921120   \n",
            "max        31.602240      29.571860      32.141470      29.383740   \n",
            "\n",
            "              run_ID  rerun_ID        cam_col       field_ID   spec_obj_ID  \\\n",
            "count  100000.000000  100000.0  100000.000000  100000.000000  1.000000e+05   \n",
            "mean     4481.366060     301.0       3.511610     186.130520  5.783882e+18   \n",
            "std      1964.764593       0.0       1.586912     149.011073  3.324016e+18   \n",
            "min       109.000000     301.0       1.000000      11.000000  2.995191e+17   \n",
            "25%      3187.000000     301.0       2.000000      82.000000  2.844138e+18   \n",
            "50%      4188.000000     301.0       4.000000     146.000000  5.614883e+18   \n",
            "75%      5326.000000     301.0       5.000000     241.000000  8.332144e+18   \n",
            "max      8162.000000     301.0       6.000000     989.000000  1.412694e+19   \n",
            "\n",
            "            redshift          plate            MJD       fiber_ID  \n",
            "count  100000.000000  100000.000000  100000.000000  100000.000000  \n",
            "mean        0.576661    5137.009660   55588.647500     449.312740  \n",
            "std         0.730707    2952.303351    1808.484233     272.498404  \n",
            "min        -0.009971     266.000000   51608.000000       1.000000  \n",
            "25%         0.054517    2526.000000   54234.000000     221.000000  \n",
            "50%         0.424173    4987.000000   55868.500000     433.000000  \n",
            "75%         0.704154    7400.250000   56777.000000     645.000000  \n",
            "max         7.011245   12547.000000   58932.000000    1000.000000  \n"
          ]
        }
      ],
      "source": [
        "# Describe your data with a short text paragraph: describe the domain, number and type of attributes, number of instances, and anything else that seems to be relevant.\n",
        "\n",
        "# instances\n",
        "print(\"Number of instances: \", data.shape[0])\n",
        "\n",
        "# attributes\n",
        "print(\"\\nNumber of attributes: \", data.shape[1])\n",
        "\n",
        "# domain\n",
        "print(\"\\nDomain: \", data.columns)\n",
        "\n",
        "# type of attributes\n",
        "print(\"\\nType of attributes: \", data.dtypes)\n",
        "\n",
        "# relevant information\n",
        "print(\"\\nRelevant information: \", data.describe())"
      ]
    },
    {
      "cell_type": "markdown",
      "metadata": {},
      "source": [
        "### Preparing for PCA\n",
        "To get a better idea of how many components we should use for our dimensionality reduction there are these two graphs that will help to visualize the data.\n",
        "With these two plots we are able to determine what number of components we should use to retain an approximate 95% of variance.\n",
        "\n",
        "1. Scree Plot\n",
        "- Visualizes the eigenvalues of the components.\n",
        "- Where the slope of the curve flattens is a decent cutoff point.\n",
        "\n",
        "2. Explained Variance Ratio\n",
        "- Indicates the proportion of the dataset's total variance explained by each component.\n",
        "- By plotting these values we can determine the number of components to explain a desired amount of total variance."
      ]
    },
    {
      "cell_type": "code",
      "execution_count": 6,
      "metadata": {
        "colab": {
          "base_uri": "https://localhost:8080/",
          "height": 957
        },
        "id": "ZN2y59vi4awT",
        "outputId": "12c89e7d-9a35-42fc-aaf9-68a4ae15698f"
      },
      "outputs": [
        {
          "data": {
            "image/png": "[encoded data removed]",
            "text/plain": [
              "<Figure size 800x500 with 1 Axes>"
            ]
          },
          "metadata": {},
          "output_type": "display_data"
        },
        {
          "data": {
            "image/png": "[encoded data removed]",
            "text/plain": [
              "<Figure size 800x500 with 1 Axes>"
            ]
          },
          "metadata": {},
          "output_type": "display_data"
        }
      ],
      "source": [
        "# Start by determining the number of principal components to use\n",
        "# to retain 95% of the variance\n",
        "\n",
        "# Standardize the Data\n",
        "scaler = StandardScaler()\n",
        "scaler.fit(cdata)\n",
        "scaled_data = scaler.transform(cdata)\n",
        "\n",
        "# Perform PCA without reducing dimensionality to compute full variance\n",
        "pca = PCA()\n",
        "pca.fit(scaled_data)\n",
        "\n",
        "# Plot the explained variance by each component\n",
        "plt.figure(figsize=(8, 5))\n",
        "plt.plot(range(1, len(pca.explained_variance_) + 1), pca.explained_variance_, marker='o')\n",
        "plt.xlabel('Number of Components')\n",
        "plt.ylabel('Eigenvalues')\n",
        "plt.title('Scree Plot')\n",
        "plt.grid(True)\n",
        "plt.show()\n",
        "\n",
        "# Calculate cumulative variance explained by all components\n",
        "cumulative_variance = pca.explained_variance_ratio_.cumsum()\n",
        "\n",
        "# Plot the cumulative explained variance\n",
        "plt.figure(figsize=(8, 5))\n",
        "plt.plot(range(1, len(cumulative_variance) + 1), cumulative_variance, marker='o')\n",
        "plt.xlabel('Number of Components')\n",
        "plt.ylabel('Cumulative Explained Variance')\n",
        "plt.title('Explained Variance by Different Principal Components')\n",
        "plt.axhline(y=0.95, color='r', linestyle='--')  # Line at 95% variance\n",
        "plt.grid(True)\n",
        "plt.show()"
      ]
    },
    {
      "cell_type": "markdown",
      "metadata": {
        "id": "-bLcZ-jO4awU"
      },
      "source": [
        "### Performing PCA\n",
        "We chose to do PCA decomposition for our dimensionality reduction.\n",
        "\n",
        "Based on the data above, we should be permforming PCA with around 8-9 components to retain our 95% variance."
      ]
    },
    {
      "cell_type": "code",
      "execution_count": 7,
      "metadata": {
        "colab": {
          "base_uri": "https://localhost:8080/",
          "height": 1000
        },
        "id": "NL8MrqilQoru",
        "outputId": "39d7364f-0f46-44c0-a702-96d3757ae4a0"
      },
      "outputs": [
        {
          "data": {
            "image/png": "[encoded data removed]",
            "text/plain": [
              "<Figure size 800x600 with 1 Axes>"
            ]
          },
          "metadata": {},
          "output_type": "display_data"
        },
        {
          "name": "stdout",
          "output_type": "stream",
          "text": [
            "[0.29323714 0.18625784 0.12923462 0.07864501 0.06756852 0.05676373\n",
            " 0.05299149 0.05006391 0.04396882]\n",
            "0.9587310928680398\n"
          ]
        },
        {
          "data": {
            "image/png": "[encoded data removed]",
            "text/plain": [
              "<Figure size 800x600 with 1 Axes>"
            ]
          },
          "metadata": {},
          "output_type": "display_data"
        }
      ],
      "source": [
        "# PCA\n",
        "pca = PCA(n_components=9)\n",
        "pca.fit(scaled_data)\n",
        "x_pca = pca.transform(scaled_data)\n",
        "\n",
        "# Plot the PCA\n",
        "plt.figure(figsize=(8,6))\n",
        "scatter = plt.scatter(x_pca[:,0], x_pca[:,1], c=numeric_classes, cmap='viridis')\n",
        "plt.xlabel('First principal component')\n",
        "plt.ylabel('Second Principal Component')\n",
        "\n",
        "# Create a legend\n",
        "classes = label_encoder.classes_\n",
        "handles = [plt.Line2D([0], [0], marker='o', color='w', markerfacecolor=scatter.cmap(scatter.norm(i)), markersize=10) for i in range(len(classes))]\n",
        "plt.legend(handles, classes, title=\"Classes\")\n",
        "plt.title('PCA')\n",
        "\n",
        "plt.show()\n",
        "\n",
        "# Explained Variance\n",
        "print(pca.explained_variance_ratio_)\n",
        "print(pca.explained_variance_ratio_.sum())\n",
        "\n",
        "# Plot the explained variance\n",
        "plt.figure(figsize=(8,6))\n",
        "plt.plot(np.cumsum(pca.explained_variance_ratio_))\n",
        "plt.xlabel('Number of Components')\n",
        "plt.ylabel('Variance (%)')\n",
        "plt.title('Explained Variance')\n",
        "plt.show()"
      ]
    },
    {
      "cell_type": "markdown",
      "metadata": {},
      "source": [
        "## (3-4) Model Training and Evaluation\n",
        "- We wanted to try out a few different models to compare a few different things\n",
        "- Mainly model speed and accuracy\n",
        "- Some of these models take up to a minute where as the decision tree is almost instant."
      ]
    },
    {
      "cell_type": "code",
      "execution_count": 8,
      "metadata": {},
      "outputs": [
        {
          "name": "stdout",
          "output_type": "stream",
          "text": [
            "(70000, 9)\n",
            "(70000,)\n",
            "(30000, 9)\n",
            "(30000,)\n"
          ]
        }
      ],
      "source": [
        "# Split the data into training and testing sets\n",
        "X_train, X_test, y_train, y_test = train_test_split(x_pca, numeric_classes, test_size=0.3)\n",
        "\n",
        "print(X_train.shape)\n",
        "print(y_train.shape)\n",
        "print(X_test.shape)\n",
        "print(y_test.shape)"
      ]
    },
    {
      "cell_type": "markdown",
      "metadata": {},
      "source": [
        "### (3) Training Model (MLP Classifier)\n",
        "- Multi-layered Perceptron Classifier"
      ]
    },
    {
      "cell_type": "code",
      "execution_count": 9,
      "metadata": {
        "colab": {
          "base_uri": "https://localhost:8080/",
          "height": 729
        },
        "id": "XQibOKjEQsrY",
        "outputId": "3469cc62-60d9-4a81-d613-56b1a8f4173f"
      },
      "outputs": [
        {
          "name": "stdout",
          "output_type": "stream",
          "text": [
            "[[16827   251   823]\n",
            " [  559  5024    40]\n",
            " [ 1159    13  5304]]\n",
            "              precision    recall  f1-score   support\n",
            "\n",
            "           0       0.91      0.94      0.92     17901\n",
            "           1       0.95      0.89      0.92      5623\n",
            "           2       0.86      0.82      0.84      6476\n",
            "\n",
            "    accuracy                           0.91     30000\n",
            "   macro avg       0.91      0.88      0.89     30000\n",
            "weighted avg       0.91      0.91      0.90     30000\n",
            "\n"
          ]
        },
        {
          "data": {
            "text/plain": [
              "<Figure size 800x600 with 0 Axes>"
            ]
          },
          "metadata": {},
          "output_type": "display_data"
        },
        {
          "data": {
            "image/png": "[encoded data removed]",
            "text/plain": [
              "<Figure size 480x480 with 1 Axes>"
            ]
          },
          "metadata": {},
          "output_type": "display_data"
        }
      ],
      "source": [
        "# neural network\n",
        "from sklearn.neural_network import MLPClassifier\n",
        "\n",
        "# Train the model\n",
        "mlp = MLPClassifier(hidden_layer_sizes=(9,9,9), max_iter=1000)\n",
        "mlp.fit(X_train, y_train)\n",
        "\n",
        "# Predictions\n",
        "predictions = mlp.predict(X_test)\n",
        "\n",
        "# Evaluate the model\n",
        "print(confusion_matrix(y_test, predictions))\n",
        "print(classification_report(y_test, predictions))\n",
        "\n",
        "# Plot the confusion matrix\n",
        "plt.figure(figsize=(8,6))\n",
        "cm = confusion_matrix(y_test, predictions)\n",
        "plt.matshow(cm, cmap='Blues')\n",
        "\n",
        "for i in range(cm.shape[0]):\n",
        "    for j in range(cm.shape[1]):\n",
        "        plt.text(x=j, y=i, s=cm[i, j], va='center', ha='center')\n",
        "\n",
        "plt.xlabel('Predicted label')\n",
        "plt.ylabel('True label')\n",
        "plt.title('Confusion Matrix')\n",
        "plt.show()"
      ]
    },
    {
      "cell_type": "markdown",
      "metadata": {
        "id": "MfFvSEuSQtok"
      },
      "source": [
        "### (4) Evaluate Model (MLP Classifier)"
      ]
    },
    {
      "cell_type": "code",
      "execution_count": 10,
      "metadata": {
        "colab": {
          "base_uri": "https://localhost:8080/"
        },
        "id": "NMArnuJ6Qwb5",
        "outputId": "2dd5f538-0b2b-466b-ef4b-da764532ef8e"
      },
      "outputs": [
        {
          "name": "stdout",
          "output_type": "stream",
          "text": [
            "Accuracy: 0.91\n",
            "Precision: 0.91\n",
            "Recall: 0.91\n",
            "F1 score: 0.90\n"
          ]
        }
      ],
      "source": [
        "# Accuracy\n",
        "accuracy = accuracy_score(y_test, predictions)\n",
        "print('Accuracy: %.2f' % accuracy)\n",
        "\n",
        "# Precision\n",
        "precision = precision_score(y_test, predictions, average='weighted')\n",
        "print('Precision: %.2f' % precision)\n",
        "\n",
        "# Recall\n",
        "recall = recall_score(y_test, predictions, average='weighted')\n",
        "print('Recall: %.2f' % recall)\n",
        "\n",
        "# F1\n",
        "f1 = f1_score(y_test, predictions, average='weighted')\n",
        "print('F1 score: %.2f' % f1)"
      ]
    },
    {
      "cell_type": "markdown",
      "metadata": {
        "id": "jYyHhPnx4rih"
      },
      "source": [
        "### (3) Training Model (Decision Tree)"
      ]
    },
    {
      "cell_type": "code",
      "execution_count": 11,
      "metadata": {
        "colab": {
          "base_uri": "https://localhost:8080/",
          "height": 729
        },
        "id": "wlSiVoZb4uMC",
        "outputId": "519ee9bf-eab9-47fd-9749-8501c586d3c1"
      },
      "outputs": [
        {
          "name": "stdout",
          "output_type": "stream",
          "text": [
            "[[16035   718  1148]\n",
            " [  754  4776    93]\n",
            " [ 1293    84  5099]]\n",
            "              precision    recall  f1-score   support\n",
            "\n",
            "           0       0.89      0.90      0.89     17901\n",
            "           1       0.86      0.85      0.85      5623\n",
            "           2       0.80      0.79      0.80      6476\n",
            "\n",
            "    accuracy                           0.86     30000\n",
            "   macro avg       0.85      0.84      0.85     30000\n",
            "weighted avg       0.86      0.86      0.86     30000\n",
            "\n"
          ]
        },
        {
          "data": {
            "text/plain": [
              "<Figure size 800x600 with 0 Axes>"
            ]
          },
          "metadata": {},
          "output_type": "display_data"
        },
        {
          "data": {
            "image/png": "[encoded data removed]",
            "text/plain": [
              "<Figure size 480x480 with 1 Axes>"
            ]
          },
          "metadata": {},
          "output_type": "display_data"
        }
      ],
      "source": [
        "# decision tree\n",
        "from sklearn import tree\n",
        "# Train the model\n",
        "clf = tree.DecisionTreeClassifier()\n",
        "clf.fit(X_train, y_train)\n",
        "\n",
        "# Predictions\n",
        "predictions = clf.predict(X_test)\n",
        "\n",
        "# Evaluate the model\n",
        "print(confusion_matrix(y_test, predictions))\n",
        "print(classification_report(y_test, predictions))\n",
        "\n",
        "# Plot the confusion matrix\n",
        "plt.figure(figsize=(8,6))\n",
        "cm = confusion_matrix(y_test, predictions)\n",
        "plt.matshow(cm, cmap='Blues')\n",
        "\n",
        "for i in range(cm.shape[0]):\n",
        "    for j in range(cm.shape[1]):\n",
        "        plt.text(x=j, y=i, s=cm[i, j], va='center', ha='center')\n",
        "\n",
        "plt.xlabel('Predicted label')\n",
        "plt.ylabel('True label')\n",
        "plt.title('Confusion Matrix')\n",
        "plt.show()"
      ]
    },
    {
      "cell_type": "markdown",
      "metadata": {
        "id": "Ufs__FJx5L7t"
      },
      "source": [
        "### (4) Evaluate Model (Decision Tree)"
      ]
    },
    {
      "cell_type": "code",
      "execution_count": 12,
      "metadata": {
        "colab": {
          "base_uri": "https://localhost:8080/"
        },
        "id": "jtkavuTr5JCy",
        "outputId": "d0b84e44-1cd9-4413-e141-e7ee2878388b"
      },
      "outputs": [
        {
          "name": "stdout",
          "output_type": "stream",
          "text": [
            "Accuracy: 0.86\n",
            "Precision: 0.86\n",
            "Recall: 0.86\n",
            "F1 score: 0.86\n"
          ]
        }
      ],
      "source": [
        "# Accuracy\n",
        "accuracy = accuracy_score(y_test, predictions)\n",
        "print('Accuracy: %.2f' % accuracy)\n",
        "\n",
        "# Precision\n",
        "precision = precision_score(y_test, predictions, average='weighted')\n",
        "print('Precision: %.2f' % precision)\n",
        "\n",
        "# Recall\n",
        "recall = recall_score(y_test, predictions, average='weighted')\n",
        "print('Recall: %.2f' % recall)\n",
        "\n",
        "# F1\n",
        "f1 = f1_score(y_test, predictions, average='weighted')\n",
        "print('F1 score: %.2f' % f1)"
      ]
    },
    {
      "cell_type": "markdown",
      "metadata": {
        "id": "TfZzjyXEAfcO"
      },
      "source": [
        "### (3) Training Model (Support Vector Machine)"
      ]
    },
    {
      "cell_type": "code",
      "execution_count": 13,
      "metadata": {
        "colab": {
          "base_uri": "https://localhost:8080/",
          "height": 729
        },
        "id": "cCX7-B2K_7T1",
        "outputId": "5cd2c3c8-7c78-40eb-e5cd-4cac5e205918"
      },
      "outputs": [
        {
          "name": "stdout",
          "output_type": "stream",
          "text": [
            "[[16865   158   878]\n",
            " [  911  4661    51]\n",
            " [ 1779     4  4693]]\n",
            "              precision    recall  f1-score   support\n",
            "\n",
            "           0       0.86      0.94      0.90     17901\n",
            "           1       0.97      0.83      0.89      5623\n",
            "           2       0.83      0.72      0.78      6476\n",
            "\n",
            "    accuracy                           0.87     30000\n",
            "   macro avg       0.89      0.83      0.86     30000\n",
            "weighted avg       0.88      0.87      0.87     30000\n",
            "\n"
          ]
        },
        {
          "data": {
            "text/plain": [
              "<Figure size 800x600 with 0 Axes>"
            ]
          },
          "metadata": {},
          "output_type": "display_data"
        },
        {
          "data": {
            "image/png": "[encoded data removed]",
            "text/plain": [
              "<Figure size 480x480 with 1 Axes>"
            ]
          },
          "metadata": {},
          "output_type": "display_data"
        }
      ],
      "source": [
        "# support vector machine\n",
        "from sklearn import svm\n",
        "# Train the model\n",
        "clf = svm.SVC()\n",
        "clf.fit(X_train, y_train)\n",
        "\n",
        "# Predictions\n",
        "predictions = clf.predict(X_test)\n",
        "\n",
        "# Evaluate the model\n",
        "print(confusion_matrix(y_test, predictions))\n",
        "print(classification_report(y_test, predictions))\n",
        "\n",
        "# Plot the confusion matrix\n",
        "plt.figure(figsize=(8,6))\n",
        "cm = confusion_matrix(y_test, predictions)\n",
        "plt.matshow(cm, cmap='Blues')\n",
        "\n",
        "for i in range(cm.shape[0]):\n",
        "    for j in range(cm.shape[1]):\n",
        "        plt.text(x=j, y=i, s=cm[i, j], va='center', ha='center')\n",
        "\n",
        "plt.xlabel('Predicted label')\n",
        "plt.ylabel('True label')\n",
        "plt.title('Confusion Matrix')\n",
        "plt.show()"
      ]
    },
    {
      "cell_type": "markdown",
      "metadata": {
        "id": "oaci2FPJAqE2"
      },
      "source": [
        "### (4) Evaluate Model (Support Vector Machine)"
      ]
    },
    {
      "cell_type": "code",
      "execution_count": 14,
      "metadata": {
        "colab": {
          "base_uri": "https://localhost:8080/"
        },
        "id": "VVaRiYkBAkhL",
        "outputId": "80bfdda6-cdd1-49d5-8b90-127e4d26dca1"
      },
      "outputs": [
        {
          "name": "stdout",
          "output_type": "stream",
          "text": [
            "Accuracy: 0.87\n",
            "Precision: 0.88\n",
            "Recall: 0.87\n",
            "F1 score: 0.87\n"
          ]
        }
      ],
      "source": [
        "# Accuracy\n",
        "accuracy = accuracy_score(y_test, predictions)\n",
        "print('Accuracy: %.2f' % accuracy)\n",
        "\n",
        "# Precision\n",
        "precision = precision_score(y_test, predictions, average='weighted')\n",
        "print('Precision: %.2f' % precision)\n",
        "\n",
        "# Recall\n",
        "recall = recall_score(y_test, predictions, average='weighted')\n",
        "print('Recall: %.2f' % recall)\n",
        "\n",
        "# F1\n",
        "f1 = f1_score(y_test, predictions, average='weighted')\n",
        "print('F1 score: %.2f' % f1)"
      ]
    },
    {
      "cell_type": "markdown",
      "metadata": {},
      "source": [
        "### (4) Training Model (Sequential Model)\n",
        "- Wanted to take a stab at building out a model of my own.\n",
        "- Takes about 1m30s to run.\n",
        "- Compares pretty well in accuracy to the other methods."
      ]
    },
    {
      "cell_type": "code",
      "execution_count": 15,
      "metadata": {},
      "outputs": [
        {
          "data": {
            "text/html": [
              "<pre style=\"white-space:pre;overflow-x:auto;line-height:normal;font-family:Menlo,'DejaVu Sans Mono',consolas,'Courier New',monospace\"><span style=\"font-weight: bold\">Model: \"sequential\"</span>\n",
              "</pre>\n"
            ],
            "text/plain": [
              "\u001b[1mModel: \"sequential\"\u001b[0m\n"
            ]
          },
          "metadata": {},
          "output_type": "display_data"
        },
        {
          "data": {
            "text/html": [
              "<pre style=\"white-space:pre;overflow-x:auto;line-height:normal;font-family:Menlo,'DejaVu Sans Mono',consolas,'Courier New',monospace\">┏━━━━━━━━━━━━━━━━━━━━━━━━━━━━━━━━━┳━━━━━━━━━━━━━━━━━━━━━━━━┳━━━━━━━━━━━━━━━┓\n",
              "┃<span style=\"font-weight: bold\"> Layer (type)                    </span>┃<span style=\"font-weight: bold\"> Output Shape           </span>┃<span style=\"font-weight: bold\">       Param # </span>┃\n",
              "┡━━━━━━━━━━━━━━━━━━━━━━━━━━━━━━━━━╇━━━━━━━━━━━━━━━━━━━━━━━━╇━━━━━━━━━━━━━━━┩\n",
              "│ hidden1 (<span style=\"color: #0087ff; text-decoration-color: #0087ff\">Dense</span>)                 │ (<span style=\"color: #00d7ff; text-decoration-color: #00d7ff\">None</span>, <span style=\"color: #00af00; text-decoration-color: #00af00\">18</span>)             │           <span style=\"color: #00af00; text-decoration-color: #00af00\">180</span> │\n",
              "├─────────────────────────────────┼────────────────────────┼───────────────┤\n",
              "│ hidden2 (<span style=\"color: #0087ff; text-decoration-color: #0087ff\">Dense</span>)                 │ (<span style=\"color: #00d7ff; text-decoration-color: #00d7ff\">None</span>, <span style=\"color: #00af00; text-decoration-color: #00af00\">18</span>)             │           <span style=\"color: #00af00; text-decoration-color: #00af00\">342</span> │\n",
              "├─────────────────────────────────┼────────────────────────┼───────────────┤\n",
              "│ dropout (<span style=\"color: #0087ff; text-decoration-color: #0087ff\">Dropout</span>)               │ (<span style=\"color: #00d7ff; text-decoration-color: #00d7ff\">None</span>, <span style=\"color: #00af00; text-decoration-color: #00af00\">18</span>)             │             <span style=\"color: #00af00; text-decoration-color: #00af00\">0</span> │\n",
              "├─────────────────────────────────┼────────────────────────┼───────────────┤\n",
              "│ hidden3 (<span style=\"color: #0087ff; text-decoration-color: #0087ff\">Dense</span>)                 │ (<span style=\"color: #00d7ff; text-decoration-color: #00d7ff\">None</span>, <span style=\"color: #00af00; text-decoration-color: #00af00\">18</span>)             │           <span style=\"color: #00af00; text-decoration-color: #00af00\">342</span> │\n",
              "├─────────────────────────────────┼────────────────────────┼───────────────┤\n",
              "│ output (<span style=\"color: #0087ff; text-decoration-color: #0087ff\">Dense</span>)                  │ (<span style=\"color: #00d7ff; text-decoration-color: #00d7ff\">None</span>, <span style=\"color: #00af00; text-decoration-color: #00af00\">3</span>)              │            <span style=\"color: #00af00; text-decoration-color: #00af00\">57</span> │\n",
              "└─────────────────────────────────┴────────────────────────┴───────────────┘\n",
              "</pre>\n"
            ],
            "text/plain": [
              "┏━━━━━━━━━━━━━━━━━━━━━━━━━━━━━━━━━┳━━━━━━━━━━━━━━━━━━━━━━━━┳━━━━━━━━━━━━━━━┓\n",
              "┃\u001b[1m \u001b[0m\u001b[1mLayer (type)                   \u001b[0m\u001b[1m \u001b[0m┃\u001b[1m \u001b[0m\u001b[1mOutput Shape          \u001b[0m\u001b[1m \u001b[0m┃\u001b[1m \u001b[0m\u001b[1m      Param #\u001b[0m\u001b[1m \u001b[0m┃\n",
              "┡━━━━━━━━━━━━━━━━━━━━━━━━━━━━━━━━━╇━━━━━━━━━━━━━━━━━━━━━━━━╇━━━━━━━━━━━━━━━┩\n",
              "│ hidden1 (\u001b[38;5;33mDense\u001b[0m)                 │ (\u001b[38;5;45mNone\u001b[0m, \u001b[38;5;34m18\u001b[0m)             │           \u001b[38;5;34m180\u001b[0m │\n",
              "├─────────────────────────────────┼────────────────────────┼───────────────┤\n",
              "│ hidden2 (\u001b[38;5;33mDense\u001b[0m)                 │ (\u001b[38;5;45mNone\u001b[0m, \u001b[38;5;34m18\u001b[0m)             │           \u001b[38;5;34m342\u001b[0m │\n",
              "├─────────────────────────────────┼────────────────────────┼───────────────┤\n",
              "│ dropout (\u001b[38;5;33mDropout\u001b[0m)               │ (\u001b[38;5;45mNone\u001b[0m, \u001b[38;5;34m18\u001b[0m)             │             \u001b[38;5;34m0\u001b[0m │\n",
              "├─────────────────────────────────┼────────────────────────┼───────────────┤\n",
              "│ hidden3 (\u001b[38;5;33mDense\u001b[0m)                 │ (\u001b[38;5;45mNone\u001b[0m, \u001b[38;5;34m18\u001b[0m)             │           \u001b[38;5;34m342\u001b[0m │\n",
              "├─────────────────────────────────┼────────────────────────┼───────────────┤\n",
              "│ output (\u001b[38;5;33mDense\u001b[0m)                  │ (\u001b[38;5;45mNone\u001b[0m, \u001b[38;5;34m3\u001b[0m)              │            \u001b[38;5;34m57\u001b[0m │\n",
              "└─────────────────────────────────┴────────────────────────┴───────────────┘\n"
            ]
          },
          "metadata": {},
          "output_type": "display_data"
        },
        {
          "data": {
            "text/html": [
              "<pre style=\"white-space:pre;overflow-x:auto;line-height:normal;font-family:Menlo,'DejaVu Sans Mono',consolas,'Courier New',monospace\"><span style=\"font-weight: bold\"> Total params: </span><span style=\"color: #00af00; text-decoration-color: #00af00\">921</span> (3.60 KB)\n",
              "</pre>\n"
            ],
            "text/plain": [
              "\u001b[1m Total params: \u001b[0m\u001b[38;5;34m921\u001b[0m (3.60 KB)\n"
            ]
          },
          "metadata": {},
          "output_type": "display_data"
        },
        {
          "data": {
            "text/html": [
              "<pre style=\"white-space:pre;overflow-x:auto;line-height:normal;font-family:Menlo,'DejaVu Sans Mono',consolas,'Courier New',monospace\"><span style=\"font-weight: bold\"> Trainable params: </span><span style=\"color: #00af00; text-decoration-color: #00af00\">921</span> (3.60 KB)\n",
              "</pre>\n"
            ],
            "text/plain": [
              "\u001b[1m Trainable params: \u001b[0m\u001b[38;5;34m921\u001b[0m (3.60 KB)\n"
            ]
          },
          "metadata": {},
          "output_type": "display_data"
        },
        {
          "data": {
            "text/html": [
              "<pre style=\"white-space:pre;overflow-x:auto;line-height:normal;font-family:Menlo,'DejaVu Sans Mono',consolas,'Courier New',monospace\"><span style=\"font-weight: bold\"> Non-trainable params: </span><span style=\"color: #00af00; text-decoration-color: #00af00\">0</span> (0.00 B)\n",
              "</pre>\n"
            ],
            "text/plain": [
              "\u001b[1m Non-trainable params: \u001b[0m\u001b[38;5;34m0\u001b[0m (0.00 B)\n"
            ]
          },
          "metadata": {},
          "output_type": "display_data"
        },
        {
          "name": "stdout",
          "output_type": "stream",
          "text": [
            "Epoch 1/50\n",
            "2800/2800 - 2s - 863us/step - accuracy: 0.7588 - loss: 0.5592 - val_accuracy: 0.8064 - val_loss: 0.7597\n",
            "Epoch 2/50\n",
            "2800/2800 - 2s - 583us/step - accuracy: 0.8169 - loss: 0.4431 - val_accuracy: 0.8383 - val_loss: 1.0620\n",
            "Epoch 3/50\n",
            "2800/2800 - 2s - 585us/step - accuracy: 0.8429 - loss: 0.3840 - val_accuracy: 0.8639 - val_loss: 1.2497\n",
            "Epoch 4/50\n",
            "2800/2800 - 2s - 569us/step - accuracy: 0.8593 - loss: 0.3533 - val_accuracy: 0.8754 - val_loss: 1.4038\n",
            "Epoch 5/50\n",
            "2800/2800 - 2s - 586us/step - accuracy: 0.8704 - loss: 0.3351 - val_accuracy: 0.8859 - val_loss: 1.3151\n",
            "Epoch 6/50\n",
            "2800/2800 - 2s - 578us/step - accuracy: 0.8786 - loss: 0.3234 - val_accuracy: 0.8906 - val_loss: 1.2328\n",
            "Epoch 7/50\n",
            "2800/2800 - 2s - 569us/step - accuracy: 0.8858 - loss: 0.3111 - val_accuracy: 0.8965 - val_loss: 1.2029\n",
            "Epoch 8/50\n",
            "2800/2800 - 2s - 567us/step - accuracy: 0.8896 - loss: 0.3010 - val_accuracy: 0.8994 - val_loss: 1.1414\n",
            "Epoch 9/50\n",
            "2800/2800 - 2s - 580us/step - accuracy: 0.8912 - loss: 0.2969 - val_accuracy: 0.9015 - val_loss: 1.1117\n",
            "Epoch 10/50\n",
            "2800/2800 - 2s - 575us/step - accuracy: 0.8938 - loss: 0.2919 - val_accuracy: 0.9039 - val_loss: 1.1683\n",
            "Epoch 11/50\n",
            "2800/2800 - 2s - 576us/step - accuracy: 0.8966 - loss: 0.2857 - val_accuracy: 0.9063 - val_loss: 1.2932\n",
            "Epoch 12/50\n",
            "2800/2800 - 2s - 574us/step - accuracy: 0.8977 - loss: 0.2847 - val_accuracy: 0.9096 - val_loss: 1.1986\n",
            "Epoch 13/50\n",
            "2800/2800 - 2s - 567us/step - accuracy: 0.8998 - loss: 0.2784 - val_accuracy: 0.9080 - val_loss: 1.2516\n",
            "Epoch 14/50\n",
            "2800/2800 - 2s - 568us/step - accuracy: 0.9004 - loss: 0.2768 - val_accuracy: 0.9088 - val_loss: 1.3664\n",
            "Epoch 15/50\n",
            "2800/2800 - 2s - 578us/step - accuracy: 0.9016 - loss: 0.2729 - val_accuracy: 0.9120 - val_loss: 1.2965\n",
            "Epoch 16/50\n",
            "2800/2800 - 2s - 570us/step - accuracy: 0.9017 - loss: 0.2720 - val_accuracy: 0.9093 - val_loss: 1.2787\n",
            "Epoch 17/50\n",
            "2800/2800 - 2s - 560us/step - accuracy: 0.9039 - loss: 0.2691 - val_accuracy: 0.9109 - val_loss: 1.2988\n",
            "Epoch 18/50\n",
            "2800/2800 - 2s - 585us/step - accuracy: 0.9053 - loss: 0.2662 - val_accuracy: 0.9151 - val_loss: 1.2510\n",
            "Epoch 19/50\n",
            "2800/2800 - 2s - 573us/step - accuracy: 0.9048 - loss: 0.2650 - val_accuracy: 0.9155 - val_loss: 1.2069\n",
            "Epoch 20/50\n",
            "2800/2800 - 2s - 578us/step - accuracy: 0.9065 - loss: 0.2618 - val_accuracy: 0.9141 - val_loss: 1.1916\n",
            "Epoch 21/50\n",
            "2800/2800 - 2s - 579us/step - accuracy: 0.9074 - loss: 0.2599 - val_accuracy: 0.9161 - val_loss: 1.0323\n",
            "Epoch 22/50\n",
            "2800/2800 - 2s - 583us/step - accuracy: 0.9089 - loss: 0.2574 - val_accuracy: 0.9161 - val_loss: 1.1924\n",
            "Epoch 23/50\n",
            "2800/2800 - 2s - 564us/step - accuracy: 0.9082 - loss: 0.2558 - val_accuracy: 0.9160 - val_loss: 1.1558\n",
            "Epoch 24/50\n",
            "2800/2800 - 2s - 570us/step - accuracy: 0.9090 - loss: 0.2541 - val_accuracy: 0.9175 - val_loss: 1.1768\n",
            "Epoch 25/50\n",
            "2800/2800 - 2s - 573us/step - accuracy: 0.9086 - loss: 0.2548 - val_accuracy: 0.9176 - val_loss: 1.2238\n",
            "Epoch 26/50\n",
            "2800/2800 - 2s - 563us/step - accuracy: 0.9099 - loss: 0.2541 - val_accuracy: 0.9186 - val_loss: 1.2197\n",
            "Epoch 27/50\n",
            "2800/2800 - 2s - 580us/step - accuracy: 0.9105 - loss: 0.2507 - val_accuracy: 0.9172 - val_loss: 1.1905\n",
            "Epoch 28/50\n",
            "2800/2800 - 2s - 571us/step - accuracy: 0.9101 - loss: 0.2519 - val_accuracy: 0.9166 - val_loss: 1.1871\n",
            "Epoch 29/50\n",
            "2800/2800 - 2s - 584us/step - accuracy: 0.9112 - loss: 0.2503 - val_accuracy: 0.9176 - val_loss: 1.2991\n",
            "Epoch 30/50\n",
            "2800/2800 - 2s - 589us/step - accuracy: 0.9118 - loss: 0.2475 - val_accuracy: 0.9145 - val_loss: 1.2012\n",
            "Epoch 31/50\n",
            "2800/2800 - 2s - 590us/step - accuracy: 0.9126 - loss: 0.2480 - val_accuracy: 0.9201 - val_loss: 1.2485\n",
            "Epoch 32/50\n",
            "2800/2800 - 2s - 577us/step - accuracy: 0.9122 - loss: 0.2463 - val_accuracy: 0.9171 - val_loss: 1.1641\n",
            "Epoch 33/50\n",
            "2800/2800 - 2s - 580us/step - accuracy: 0.9132 - loss: 0.2467 - val_accuracy: 0.9187 - val_loss: 1.2018\n",
            "Epoch 34/50\n",
            "2800/2800 - 2s - 560us/step - accuracy: 0.9135 - loss: 0.2445 - val_accuracy: 0.9206 - val_loss: 1.3212\n",
            "Epoch 35/50\n",
            "2800/2800 - 2s - 577us/step - accuracy: 0.9134 - loss: 0.2447 - val_accuracy: 0.9193 - val_loss: 1.1590\n",
            "Epoch 36/50\n",
            "2800/2800 - 2s - 580us/step - accuracy: 0.9141 - loss: 0.2434 - val_accuracy: 0.9202 - val_loss: 1.2347\n",
            "Epoch 37/50\n",
            "2800/2800 - 2s - 570us/step - accuracy: 0.9123 - loss: 0.2446 - val_accuracy: 0.9193 - val_loss: 1.3118\n",
            "Epoch 38/50\n",
            "2800/2800 - 2s - 569us/step - accuracy: 0.9140 - loss: 0.2431 - val_accuracy: 0.9217 - val_loss: 1.3120\n",
            "Epoch 39/50\n",
            "2800/2800 - 2s - 581us/step - accuracy: 0.9136 - loss: 0.2421 - val_accuracy: 0.9214 - val_loss: 1.3892\n",
            "Epoch 40/50\n",
            "2800/2800 - 2s - 580us/step - accuracy: 0.9132 - loss: 0.2420 - val_accuracy: 0.9211 - val_loss: 1.2036\n",
            "Epoch 41/50\n",
            "2800/2800 - 2s - 559us/step - accuracy: 0.9129 - loss: 0.2427 - val_accuracy: 0.9212 - val_loss: 1.3555\n",
            "Epoch 42/50\n",
            "2800/2800 - 2s - 578us/step - accuracy: 0.9142 - loss: 0.2420 - val_accuracy: 0.9217 - val_loss: 1.3886\n",
            "Epoch 43/50\n",
            "2800/2800 - 2s - 588us/step - accuracy: 0.9142 - loss: 0.2402 - val_accuracy: 0.9216 - val_loss: 1.4253\n",
            "Epoch 44/50\n",
            "2800/2800 - 2s - 576us/step - accuracy: 0.9154 - loss: 0.2411 - val_accuracy: 0.9178 - val_loss: 1.4730\n",
            "Epoch 45/50\n",
            "2800/2800 - 2s - 569us/step - accuracy: 0.9143 - loss: 0.2388 - val_accuracy: 0.9217 - val_loss: 1.3260\n",
            "Epoch 46/50\n",
            "2800/2800 - 2s - 577us/step - accuracy: 0.9150 - loss: 0.2396 - val_accuracy: 0.9190 - val_loss: 1.4614\n",
            "Epoch 47/50\n",
            "2800/2800 - 2s - 573us/step - accuracy: 0.9143 - loss: 0.2381 - val_accuracy: 0.9190 - val_loss: 1.5412\n",
            "Epoch 48/50\n",
            "2800/2800 - 2s - 567us/step - accuracy: 0.9156 - loss: 0.2396 - val_accuracy: 0.9227 - val_loss: 1.6584\n",
            "Epoch 49/50\n",
            "2800/2800 - 2s - 595us/step - accuracy: 0.9145 - loss: 0.2388 - val_accuracy: 0.9218 - val_loss: 1.6449\n",
            "Epoch 50/50\n",
            "2800/2800 - 2s - 603us/step - accuracy: 0.9157 - loss: 0.2374 - val_accuracy: 0.9208 - val_loss: 1.6136\n",
            "\u001b[1m938/938\u001b[0m \u001b[32m━━━━━━━━━━━━━━━━━━━━\u001b[0m\u001b[37m\u001b[0m \u001b[1m0s\u001b[0m 432us/step - accuracy: 0.9217 - loss: 0.2254\n",
            "Test accuracy: 0.9200999736785889\n",
            "\u001b[1m938/938\u001b[0m \u001b[32m━━━━━━━━━━━━━━━━━━━━\u001b[0m\u001b[37m\u001b[0m \u001b[1m0s\u001b[0m 477us/step\n",
            "[[16788   211   902]\n",
            " [  586  5007    30]\n",
            " [  658    10  5808]]\n",
            "              precision    recall  f1-score   support\n",
            "\n",
            "           0       0.93      0.94      0.93     17901\n",
            "           1       0.96      0.89      0.92      5623\n",
            "           2       0.86      0.90      0.88      6476\n",
            "\n",
            "    accuracy                           0.92     30000\n",
            "   macro avg       0.92      0.91      0.91     30000\n",
            "weighted avg       0.92      0.92      0.92     30000\n",
            "\n"
          ]
        },
        {
          "data": {
            "text/plain": [
              "<Figure size 800x600 with 0 Axes>"
            ]
          },
          "metadata": {},
          "output_type": "display_data"
        },
        {
          "data": {
            "image/png": "[encoded data removed]",
            "text/plain": [
              "<Figure size 480x480 with 1 Axes>"
            ]
          },
          "metadata": {},
          "output_type": "display_data"
        }
      ],
      "source": [
        "# sequential model\n",
        "from keras.models import Sequential\n",
        "from keras.layers import Dense, Dropout, Input\n",
        "\n",
        "# Create a Sequential model\n",
        "model = Sequential()\n",
        "\n",
        "model.add(Input(shape=(9,)))\n",
        "model.add(Dense(18, activation='relu', name='hidden1'))\n",
        "model.add(Dense(18, activation='relu', name='hidden2'))\n",
        "model.add(Dropout(0.2))\n",
        "model.add(Dense(18, activation='relu', name='hidden3'))\n",
        "model.add(Dense(3, activation='softmax', name='output'))\n",
        "\n",
        "model.compile(optimizer='adam', loss='sparse_categorical_crossentropy', metrics=['accuracy'])\n",
        "model.summary()\n",
        "\n",
        "# Train the model\n",
        "model.fit(X_train, y_train, epochs=50, batch_size=20, verbose=2, validation_split=0.2)\n",
        "\n",
        "# Evaluate the model\n",
        "test_loss, test_acc = model.evaluate(X_test, y_test)\n",
        "print('Test accuracy:', test_acc)\n",
        "\n",
        "# Predictions\n",
        "predictions = model.predict(X_test)\n",
        "predictions = np.argmax(predictions, axis=1)\n",
        "\n",
        "# Evaluate the model\n",
        "print(confusion_matrix(y_test, predictions))\n",
        "print(classification_report(y_test, predictions))\n",
        "\n",
        "# Plot the confusion matrix\n",
        "plt.figure(figsize=(8,6))\n",
        "cm = confusion_matrix(y_test, predictions)\n",
        "plt.matshow(cm, cmap='Blues')\n",
        "\n",
        "for i in range(cm.shape[0]):\n",
        "    for j in range(cm.shape[1]):\n",
        "        plt.text(x=j, y=i, s=cm[i, j], va='center', ha='center')\n",
        "\n",
        "plt.xlabel('Predicted label')\n",
        "plt.ylabel('True label')\n",
        "plt.title('Confusion Matrix')\n",
        "plt.show()\n"
      ]
    },
    {
      "cell_type": "markdown",
      "metadata": {},
      "source": [
        "### (4) Evaluate Model (Sequential Model)"
      ]
    },
    {
      "cell_type": "code",
      "execution_count": 16,
      "metadata": {},
      "outputs": [
        {
          "name": "stdout",
          "output_type": "stream",
          "text": [
            "Accuracy: 0.92\n",
            "Precision: 0.92\n",
            "Recall: 0.92\n",
            "F1 score: 0.92\n"
          ]
        }
      ],
      "source": [
        "# Accuracy\n",
        "accuracy = accuracy_score(y_test, predictions)\n",
        "print('Accuracy: %.2f' % accuracy)\n",
        "\n",
        "# Precision\n",
        "precision = precision_score(y_test, predictions, average='weighted')\n",
        "print('Precision: %.2f' % precision)\n",
        "\n",
        "# Recall\n",
        "recall = recall_score(y_test, predictions, average='weighted')\n",
        "print('Recall: %.2f' % recall)\n",
        "\n",
        "# F1\n",
        "f1 = f1_score(y_test, predictions, average='weighted')\n",
        "print('F1 score: %.2f' % f1)"
      ]
    },
    {
      "cell_type": "markdown",
      "metadata": {
        "id": "4ALIvQpwQ4hU"
      },
      "source": [
        "## (5) Lessons Learned\n",
        "\n",
        "TODO..."
      ]
    }
  ],
  "metadata": {
    "colab": {
      "provenance": []
    },
    "kernelspec": {
      "display_name": "Python 3",
      "name": "python3"
    },
    "language_info": {
      "codemirror_mode": {
        "name": "ipython",
        "version": 3
      },
      "file_extension": ".py",
      "mimetype": "text/x-python",
      "name": "python",
      "nbconvert_exporter": "python",
      "pygments_lexer": "ipython3",
      "version": "3.11.5"
    }
  },
  "nbformat": 4,
  "nbformat_minor": 0
}
