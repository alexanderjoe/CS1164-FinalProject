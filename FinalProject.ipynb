{
  "cells": [
    {
      "cell_type": "markdown",
      "metadata": {
        "id": "2z4Wh0XEQJJj"
      },
      "source": [
        "# CS 1164 Machine Learning - Final Project\n",
        "\n",
        "Group Members:\n",
        "- Alexander Diaz\n",
        "- Gavin Wieckowski"
      ]
    },
    {
      "cell_type": "markdown",
      "metadata": {
        "id": "m8NTsBU0QUOk"
      },
      "source": [
        "## (0) Import required dependencies for the project"
      ]
    },
    {
      "cell_type": "code",
      "execution_count": 12,
      "metadata": {
        "id": "JG35oYw7PZXE",
        "colab": {
          "base_uri": "https://localhost:8080/"
        },
        "outputId": "53231fa9-29f2-4cf5-93af-8d276806d3c6"
      },
      "outputs": [
        {
          "output_type": "stream",
          "name": "stdout",
          "text": [
            "2.15.0\n",
            "2.15.0\n"
          ]
        }
      ],
      "source": [
        "# Setup Dependencies\n",
        "import numpy as np\n",
        "import pandas as pd\n",
        "import keras\n",
        "import tensorflow as tf\n",
        "from keras.models import Sequential\n",
        "import matplotlib.pyplot as plt\n",
        "%matplotlib inline\n",
        "\n",
        "# PCA Dependencies\n",
        "from sklearn.decomposition import PCA\n",
        "from sklearn.preprocessing import StandardScaler\n",
        "from sklearn.preprocessing import LabelEncoder\n",
        "from sklearn.model_selection import train_test_split\n",
        "from sklearn.metrics import classification_report, confusion_matrix, accuracy_score, precision_score, recall_score, f1_score\n",
        "\n",
        "print(keras.__version__)\n",
        "print(tf.__version__)"
      ]
    },
    {
      "cell_type": "markdown",
      "metadata": {
        "id": "gavp1UzKQczw"
      },
      "source": [
        "## (1) Load And Clean Data"
      ]
    },
    {
      "cell_type": "code",
      "execution_count": 13,
      "metadata": {
        "colab": {
          "base_uri": "https://localhost:8080/",
          "height": 206
        },
        "id": "rPo59ExwQgey",
        "outputId": "0809df5f-5816-4860-bf10-007b72b40776"
      },
      "outputs": [
        {
          "output_type": "execute_result",
          "data": {
            "text/plain": [
              "         obj_ID       alpha      delta         u         g         r  \\\n",
              "0  1.237661e+18  135.689107  32.494632  23.87882  22.27530  20.39501   \n",
              "1  1.237665e+18  144.826101  31.274185  24.77759  22.83188  22.58444   \n",
              "2  1.237661e+18  142.188790  35.582444  25.26307  22.66389  20.60976   \n",
              "3  1.237663e+18  338.741038  -0.402828  22.13682  23.77656  21.61162   \n",
              "4  1.237680e+18  345.282593  21.183866  19.43718  17.58028  16.49747   \n",
              "\n",
              "          i         z  run_ID  rerun_ID  cam_col  field_ID   spec_obj_ID  \\\n",
              "0  19.16573  18.79371    3606       301        2        79  6.543777e+18   \n",
              "1  21.16812  21.61427    4518       301        5       119  1.176014e+19   \n",
              "2  19.34857  18.94827    3606       301        2       120  5.152200e+18   \n",
              "3  20.50454  19.25010    4192       301        3       214  1.030107e+19   \n",
              "4  15.97711  15.54461    8102       301        3       137  6.891865e+18   \n",
              "\n",
              "    class  redshift  plate    MJD  fiber_ID  \n",
              "0  GALAXY  0.634794   5812  56354       171  \n",
              "1  GALAXY  0.779136  10445  58158       427  \n",
              "2  GALAXY  0.644195   4576  55592       299  \n",
              "3  GALAXY  0.932346   9149  58039       775  \n",
              "4  GALAXY  0.116123   6121  56187       842  "
            ],
            "text/html": [
              "\n",
              "  <div id=\"df-22cb8b87-9386-40e8-afaa-b0ab0a8c364e\" class=\"colab-df-container\">\n",
              "    <div>\n",
              "<style scoped>\n",
              "    .dataframe tbody tr th:only-of-type {\n",
              "        vertical-align: middle;\n",
              "    }\n",
              "\n",
              "    .dataframe tbody tr th {\n",
              "        vertical-align: top;\n",
              "    }\n",
              "\n",
              "    .dataframe thead th {\n",
              "        text-align: right;\n",
              "    }\n",
              "</style>\n",
              "<table border=\"1\" class=\"dataframe\">\n",
              "  <thead>\n",
              "    <tr style=\"text-align: right;\">\n",
              "      <th></th>\n",
              "      <th>obj_ID</th>\n",
              "      <th>alpha</th>\n",
              "      <th>delta</th>\n",
              "      <th>u</th>\n",
              "      <th>g</th>\n",
              "      <th>r</th>\n",
              "      <th>i</th>\n",
              "      <th>z</th>\n",
              "      <th>run_ID</th>\n",
              "      <th>rerun_ID</th>\n",
              "      <th>cam_col</th>\n",
              "      <th>field_ID</th>\n",
              "      <th>spec_obj_ID</th>\n",
              "      <th>class</th>\n",
              "      <th>redshift</th>\n",
              "      <th>plate</th>\n",
              "      <th>MJD</th>\n",
              "      <th>fiber_ID</th>\n",
              "    </tr>\n",
              "  </thead>\n",
              "  <tbody>\n",
              "    <tr>\n",
              "      <th>0</th>\n",
              "      <td>1.237661e+18</td>\n",
              "      <td>135.689107</td>\n",
              "      <td>32.494632</td>\n",
              "      <td>23.87882</td>\n",
              "      <td>22.27530</td>\n",
              "      <td>20.39501</td>\n",
              "      <td>19.16573</td>\n",
              "      <td>18.79371</td>\n",
              "      <td>3606</td>\n",
              "      <td>301</td>\n",
              "      <td>2</td>\n",
              "      <td>79</td>\n",
              "      <td>6.543777e+18</td>\n",
              "      <td>GALAXY</td>\n",
              "      <td>0.634794</td>\n",
              "      <td>5812</td>\n",
              "      <td>56354</td>\n",
              "      <td>171</td>\n",
              "    </tr>\n",
              "    <tr>\n",
              "      <th>1</th>\n",
              "      <td>1.237665e+18</td>\n",
              "      <td>144.826101</td>\n",
              "      <td>31.274185</td>\n",
              "      <td>24.77759</td>\n",
              "      <td>22.83188</td>\n",
              "      <td>22.58444</td>\n",
              "      <td>21.16812</td>\n",
              "      <td>21.61427</td>\n",
              "      <td>4518</td>\n",
              "      <td>301</td>\n",
              "      <td>5</td>\n",
              "      <td>119</td>\n",
              "      <td>1.176014e+19</td>\n",
              "      <td>GALAXY</td>\n",
              "      <td>0.779136</td>\n",
              "      <td>10445</td>\n",
              "      <td>58158</td>\n",
              "      <td>427</td>\n",
              "    </tr>\n",
              "    <tr>\n",
              "      <th>2</th>\n",
              "      <td>1.237661e+18</td>\n",
              "      <td>142.188790</td>\n",
              "      <td>35.582444</td>\n",
              "      <td>25.26307</td>\n",
              "      <td>22.66389</td>\n",
              "      <td>20.60976</td>\n",
              "      <td>19.34857</td>\n",
              "      <td>18.94827</td>\n",
              "      <td>3606</td>\n",
              "      <td>301</td>\n",
              "      <td>2</td>\n",
              "      <td>120</td>\n",
              "      <td>5.152200e+18</td>\n",
              "      <td>GALAXY</td>\n",
              "      <td>0.644195</td>\n",
              "      <td>4576</td>\n",
              "      <td>55592</td>\n",
              "      <td>299</td>\n",
              "    </tr>\n",
              "    <tr>\n",
              "      <th>3</th>\n",
              "      <td>1.237663e+18</td>\n",
              "      <td>338.741038</td>\n",
              "      <td>-0.402828</td>\n",
              "      <td>22.13682</td>\n",
              "      <td>23.77656</td>\n",
              "      <td>21.61162</td>\n",
              "      <td>20.50454</td>\n",
              "      <td>19.25010</td>\n",
              "      <td>4192</td>\n",
              "      <td>301</td>\n",
              "      <td>3</td>\n",
              "      <td>214</td>\n",
              "      <td>1.030107e+19</td>\n",
              "      <td>GALAXY</td>\n",
              "      <td>0.932346</td>\n",
              "      <td>9149</td>\n",
              "      <td>58039</td>\n",
              "      <td>775</td>\n",
              "    </tr>\n",
              "    <tr>\n",
              "      <th>4</th>\n",
              "      <td>1.237680e+18</td>\n",
              "      <td>345.282593</td>\n",
              "      <td>21.183866</td>\n",
              "      <td>19.43718</td>\n",
              "      <td>17.58028</td>\n",
              "      <td>16.49747</td>\n",
              "      <td>15.97711</td>\n",
              "      <td>15.54461</td>\n",
              "      <td>8102</td>\n",
              "      <td>301</td>\n",
              "      <td>3</td>\n",
              "      <td>137</td>\n",
              "      <td>6.891865e+18</td>\n",
              "      <td>GALAXY</td>\n",
              "      <td>0.116123</td>\n",
              "      <td>6121</td>\n",
              "      <td>56187</td>\n",
              "      <td>842</td>\n",
              "    </tr>\n",
              "  </tbody>\n",
              "</table>\n",
              "</div>\n",
              "    <div class=\"colab-df-buttons\">\n",
              "\n",
              "  <div class=\"colab-df-container\">\n",
              "    <button class=\"colab-df-convert\" onclick=\"convertToInteractive('df-22cb8b87-9386-40e8-afaa-b0ab0a8c364e')\"\n",
              "            title=\"Convert this dataframe to an interactive table.\"\n",
              "            style=\"display:none;\">\n",
              "\n",
              "  <svg xmlns=\"http://www.w3.org/2000/svg\" height=\"24px\" viewBox=\"0 -960 960 960\">\n",
              "    <path d=\"M120-120v-720h720v720H120Zm60-500h600v-160H180v160Zm220 220h160v-160H400v160Zm0 220h160v-160H400v160ZM180-400h160v-160H180v160Zm440 0h160v-160H620v160ZM180-180h160v-160H180v160Zm440 0h160v-160H620v160Z\"/>\n",
              "  </svg>\n",
              "    </button>\n",
              "\n",
              "  <style>\n",
              "    .colab-df-container {\n",
              "      display:flex;\n",
              "      gap: 12px;\n",
              "    }\n",
              "\n",
              "    .colab-df-convert {\n",
              "      background-color: #E8F0FE;\n",
              "      border: none;\n",
              "      border-radius: 50%;\n",
              "      cursor: pointer;\n",
              "      display: none;\n",
              "      fill: #1967D2;\n",
              "      height: 32px;\n",
              "      padding: 0 0 0 0;\n",
              "      width: 32px;\n",
              "    }\n",
              "\n",
              "    .colab-df-convert:hover {\n",
              "      background-color: #E2EBFA;\n",
              "      box-shadow: 0px 1px 2px rgba(60, 64, 67, 0.3), 0px 1px 3px 1px rgba(60, 64, 67, 0.15);\n",
              "      fill: #174EA6;\n",
              "    }\n",
              "\n",
              "    .colab-df-buttons div {\n",
              "      margin-bottom: 4px;\n",
              "    }\n",
              "\n",
              "    [theme=dark] .colab-df-convert {\n",
              "      background-color: #3B4455;\n",
              "      fill: #D2E3FC;\n",
              "    }\n",
              "\n",
              "    [theme=dark] .colab-df-convert:hover {\n",
              "      background-color: #434B5C;\n",
              "      box-shadow: 0px 1px 3px 1px rgba(0, 0, 0, 0.15);\n",
              "      filter: drop-shadow(0px 1px 2px rgba(0, 0, 0, 0.3));\n",
              "      fill: #FFFFFF;\n",
              "    }\n",
              "  </style>\n",
              "\n",
              "    <script>\n",
              "      const buttonEl =\n",
              "        document.querySelector('#df-22cb8b87-9386-40e8-afaa-b0ab0a8c364e button.colab-df-convert');\n",
              "      buttonEl.style.display =\n",
              "        google.colab.kernel.accessAllowed ? 'block' : 'none';\n",
              "\n",
              "      async function convertToInteractive(key) {\n",
              "        const element = document.querySelector('#df-22cb8b87-9386-40e8-afaa-b0ab0a8c364e');\n",
              "        const dataTable =\n",
              "          await google.colab.kernel.invokeFunction('convertToInteractive',\n",
              "                                                    [key], {});\n",
              "        if (!dataTable) return;\n",
              "\n",
              "        const docLinkHtml = 'Like what you see? Visit the ' +\n",
              "          '<a target=\"_blank\" href=https://colab.research.google.com/notebooks/data_table.ipynb>data table notebook</a>'\n",
              "          + ' to learn more about interactive tables.';\n",
              "        element.innerHTML = '';\n",
              "        dataTable['output_type'] = 'display_data';\n",
              "        await google.colab.output.renderOutput(dataTable, element);\n",
              "        const docLink = document.createElement('div');\n",
              "        docLink.innerHTML = docLinkHtml;\n",
              "        element.appendChild(docLink);\n",
              "      }\n",
              "    </script>\n",
              "  </div>\n",
              "\n",
              "\n",
              "<div id=\"df-d45cebbb-0108-4ec6-a36b-cb114716a838\">\n",
              "  <button class=\"colab-df-quickchart\" onclick=\"quickchart('df-d45cebbb-0108-4ec6-a36b-cb114716a838')\"\n",
              "            title=\"Suggest charts\"\n",
              "            style=\"display:none;\">\n",
              "\n",
              "<svg xmlns=\"http://www.w3.org/2000/svg\" height=\"24px\"viewBox=\"0 0 24 24\"\n",
              "     width=\"24px\">\n",
              "    <g>\n",
              "        <path d=\"M19 3H5c-1.1 0-2 .9-2 2v14c0 1.1.9 2 2 2h14c1.1 0 2-.9 2-2V5c0-1.1-.9-2-2-2zM9 17H7v-7h2v7zm4 0h-2V7h2v10zm4 0h-2v-4h2v4z\"/>\n",
              "    </g>\n",
              "</svg>\n",
              "  </button>\n",
              "\n",
              "<style>\n",
              "  .colab-df-quickchart {\n",
              "      --bg-color: #E8F0FE;\n",
              "      --fill-color: #1967D2;\n",
              "      --hover-bg-color: #E2EBFA;\n",
              "      --hover-fill-color: #174EA6;\n",
              "      --disabled-fill-color: #AAA;\n",
              "      --disabled-bg-color: #DDD;\n",
              "  }\n",
              "\n",
              "  [theme=dark] .colab-df-quickchart {\n",
              "      --bg-color: #3B4455;\n",
              "      --fill-color: #D2E3FC;\n",
              "      --hover-bg-color: #434B5C;\n",
              "      --hover-fill-color: #FFFFFF;\n",
              "      --disabled-bg-color: #3B4455;\n",
              "      --disabled-fill-color: #666;\n",
              "  }\n",
              "\n",
              "  .colab-df-quickchart {\n",
              "    background-color: var(--bg-color);\n",
              "    border: none;\n",
              "    border-radius: 50%;\n",
              "    cursor: pointer;\n",
              "    display: none;\n",
              "    fill: var(--fill-color);\n",
              "    height: 32px;\n",
              "    padding: 0;\n",
              "    width: 32px;\n",
              "  }\n",
              "\n",
              "  .colab-df-quickchart:hover {\n",
              "    background-color: var(--hover-bg-color);\n",
              "    box-shadow: 0 1px 2px rgba(60, 64, 67, 0.3), 0 1px 3px 1px rgba(60, 64, 67, 0.15);\n",
              "    fill: var(--button-hover-fill-color);\n",
              "  }\n",
              "\n",
              "  .colab-df-quickchart-complete:disabled,\n",
              "  .colab-df-quickchart-complete:disabled:hover {\n",
              "    background-color: var(--disabled-bg-color);\n",
              "    fill: var(--disabled-fill-color);\n",
              "    box-shadow: none;\n",
              "  }\n",
              "\n",
              "  .colab-df-spinner {\n",
              "    border: 2px solid var(--fill-color);\n",
              "    border-color: transparent;\n",
              "    border-bottom-color: var(--fill-color);\n",
              "    animation:\n",
              "      spin 1s steps(1) infinite;\n",
              "  }\n",
              "\n",
              "  @keyframes spin {\n",
              "    0% {\n",
              "      border-color: transparent;\n",
              "      border-bottom-color: var(--fill-color);\n",
              "      border-left-color: var(--fill-color);\n",
              "    }\n",
              "    20% {\n",
              "      border-color: transparent;\n",
              "      border-left-color: var(--fill-color);\n",
              "      border-top-color: var(--fill-color);\n",
              "    }\n",
              "    30% {\n",
              "      border-color: transparent;\n",
              "      border-left-color: var(--fill-color);\n",
              "      border-top-color: var(--fill-color);\n",
              "      border-right-color: var(--fill-color);\n",
              "    }\n",
              "    40% {\n",
              "      border-color: transparent;\n",
              "      border-right-color: var(--fill-color);\n",
              "      border-top-color: var(--fill-color);\n",
              "    }\n",
              "    60% {\n",
              "      border-color: transparent;\n",
              "      border-right-color: var(--fill-color);\n",
              "    }\n",
              "    80% {\n",
              "      border-color: transparent;\n",
              "      border-right-color: var(--fill-color);\n",
              "      border-bottom-color: var(--fill-color);\n",
              "    }\n",
              "    90% {\n",
              "      border-color: transparent;\n",
              "      border-bottom-color: var(--fill-color);\n",
              "    }\n",
              "  }\n",
              "</style>\n",
              "\n",
              "  <script>\n",
              "    async function quickchart(key) {\n",
              "      const quickchartButtonEl =\n",
              "        document.querySelector('#' + key + ' button');\n",
              "      quickchartButtonEl.disabled = true;  // To prevent multiple clicks.\n",
              "      quickchartButtonEl.classList.add('colab-df-spinner');\n",
              "      try {\n",
              "        const charts = await google.colab.kernel.invokeFunction(\n",
              "            'suggestCharts', [key], {});\n",
              "      } catch (error) {\n",
              "        console.error('Error during call to suggestCharts:', error);\n",
              "      }\n",
              "      quickchartButtonEl.classList.remove('colab-df-spinner');\n",
              "      quickchartButtonEl.classList.add('colab-df-quickchart-complete');\n",
              "    }\n",
              "    (() => {\n",
              "      let quickchartButtonEl =\n",
              "        document.querySelector('#df-d45cebbb-0108-4ec6-a36b-cb114716a838 button');\n",
              "      quickchartButtonEl.style.display =\n",
              "        google.colab.kernel.accessAllowed ? 'block' : 'none';\n",
              "    })();\n",
              "  </script>\n",
              "</div>\n",
              "\n",
              "    </div>\n",
              "  </div>\n"
            ],
            "application/vnd.google.colaboratory.intrinsic+json": {
              "type": "dataframe",
              "variable_name": "data",
              "summary": "{\n  \"name\": \"data\",\n  \"rows\": 100000,\n  \"fields\": [\n    {\n      \"column\": \"obj_ID\",\n      \"properties\": {\n        \"dtype\": \"number\",\n        \"std\": 8438559894562.569,\n        \"min\": 1.23764594290439e+18,\n        \"max\": 1.2376805313563863e+18,\n        \"num_unique_values\": 78053,\n        \"samples\": [\n          1.2376623373364104e+18,\n          1.2376517368478438e+18,\n          1.2376584933481513e+18\n        ],\n        \"semantic_type\": \"\",\n        \"description\": \"\"\n      }\n    },\n    {\n      \"column\": \"alpha\",\n      \"properties\": {\n        \"dtype\": \"number\",\n        \"std\": 96.502240898332,\n        \"min\": 0.0055278279239701,\n        \"max\": 359.999809770956,\n        \"num_unique_values\": 99999,\n        \"samples\": [\n          118.663236264366,\n          358.991829744244,\n          30.887222067625\n        ],\n        \"semantic_type\": \"\",\n        \"description\": \"\"\n      }\n    },\n    {\n      \"column\": \"delta\",\n      \"properties\": {\n        \"dtype\": \"number\",\n        \"std\": 19.644665404293715,\n        \"min\": -18.7853280771825,\n        \"max\": 83.00051858898,\n        \"num_unique_values\": 99999,\n        \"samples\": [\n          39.6424291996807,\n          32.7490859208678,\n          1.18870964120799\n        ],\n        \"semantic_type\": \"\",\n        \"description\": \"\"\n      }\n    },\n    {\n      \"column\": \"u\",\n      \"properties\": {\n        \"dtype\": \"number\",\n        \"std\": 31.76929080375035,\n        \"min\": -9999.0,\n        \"max\": 32.78139,\n        \"num_unique_values\": 93748,\n        \"samples\": [\n          25.78018,\n          20.35472,\n          18.63082\n        ],\n        \"semantic_type\": \"\",\n        \"description\": \"\"\n      }\n    },\n    {\n      \"column\": \"g\",\n      \"properties\": {\n        \"dtype\": \"number\",\n        \"std\": 31.750292329083205,\n        \"min\": -9999.0,\n        \"max\": 31.60224,\n        \"num_unique_values\": 92651,\n        \"samples\": [\n          20.88286,\n          23.75559,\n          17.81253\n        ],\n        \"semantic_type\": \"\",\n        \"description\": \"\"\n      }\n    },\n    {\n      \"column\": \"r\",\n      \"properties\": {\n        \"dtype\": \"number\",\n        \"std\": 1.8547596943455285,\n        \"min\": 9.82207,\n        \"max\": 29.57186,\n        \"num_unique_values\": 91901,\n        \"samples\": [\n          17.36957,\n          21.53207,\n          16.49815\n        ],\n        \"semantic_type\": \"\",\n        \"description\": \"\"\n      }\n    },\n    {\n      \"column\": \"i\",\n      \"properties\": {\n        \"dtype\": \"number\",\n        \"std\": 1.7578947904903932,\n        \"min\": 9.469903,\n        \"max\": 32.14147,\n        \"num_unique_values\": 92019,\n        \"samples\": [\n          20.34415,\n          17.00401,\n          19.63559\n        ],\n        \"semantic_type\": \"\",\n        \"description\": \"\"\n      }\n    },\n    {\n      \"column\": \"z\",\n      \"properties\": {\n        \"dtype\": \"number\",\n        \"std\": 31.728151785953646,\n        \"min\": -9999.0,\n        \"max\": 29.38374,\n        \"num_unique_values\": 92007,\n        \"samples\": [\n          17.31985,\n          22.73434,\n          19.62752\n        ],\n        \"semantic_type\": \"\",\n        \"description\": \"\"\n      }\n    },\n    {\n      \"column\": \"run_ID\",\n      \"properties\": {\n        \"dtype\": \"number\",\n        \"std\": 1964,\n        \"min\": 109,\n        \"max\": 8162,\n        \"num_unique_values\": 430,\n        \"samples\": [\n          6174,\n          7917,\n          4679\n        ],\n        \"semantic_type\": \"\",\n        \"description\": \"\"\n      }\n    },\n    {\n      \"column\": \"rerun_ID\",\n      \"properties\": {\n        \"dtype\": \"number\",\n        \"std\": 0,\n        \"min\": 301,\n        \"max\": 301,\n        \"num_unique_values\": 1,\n        \"samples\": [\n          301\n        ],\n        \"semantic_type\": \"\",\n        \"description\": \"\"\n      }\n    },\n    {\n      \"column\": \"cam_col\",\n      \"properties\": {\n        \"dtype\": \"number\",\n        \"std\": 1,\n        \"min\": 1,\n        \"max\": 6,\n        \"num_unique_values\": 6,\n        \"samples\": [\n          2\n        ],\n        \"semantic_type\": \"\",\n        \"description\": \"\"\n      }\n    },\n    {\n      \"column\": \"field_ID\",\n      \"properties\": {\n        \"dtype\": \"number\",\n        \"std\": 149,\n        \"min\": 11,\n        \"max\": 989,\n        \"num_unique_values\": 856,\n        \"samples\": [\n          706\n        ],\n        \"semantic_type\": \"\",\n        \"description\": \"\"\n      }\n    },\n    {\n      \"column\": \"spec_obj_ID\",\n      \"properties\": {\n        \"dtype\": \"number\",\n        \"std\": 3.324016169583858e+18,\n        \"min\": 2.9951908938097664e+17,\n        \"max\": 1.4126940609093851e+19,\n        \"num_unique_values\": 100000,\n        \"samples\": [\n          4.855016555329904e+18\n        ],\n        \"semantic_type\": \"\",\n        \"description\": \"\"\n      }\n    },\n    {\n      \"column\": \"class\",\n      \"properties\": {\n        \"dtype\": \"category\",\n        \"num_unique_values\": 3,\n        \"samples\": [\n          \"GALAXY\"\n        ],\n        \"semantic_type\": \"\",\n        \"description\": \"\"\n      }\n    },\n    {\n      \"column\": \"redshift\",\n      \"properties\": {\n        \"dtype\": \"number\",\n        \"std\": 0.7307072761888087,\n        \"min\": -0.009970667,\n        \"max\": 7.011245,\n        \"num_unique_values\": 99295,\n        \"samples\": [\n          3.202965\n        ],\n        \"semantic_type\": \"\",\n        \"description\": \"\"\n      }\n    },\n    {\n      \"column\": \"plate\",\n      \"properties\": {\n        \"dtype\": \"number\",\n        \"std\": 2952,\n        \"min\": 266,\n        \"max\": 12547,\n        \"num_unique_values\": 6284,\n        \"samples\": [\n          2264\n        ],\n        \"semantic_type\": \"\",\n        \"description\": \"\"\n      }\n    },\n    {\n      \"column\": \"MJD\",\n      \"properties\": {\n        \"dtype\": \"number\",\n        \"std\": 1808,\n        \"min\": 51608,\n        \"max\": 58932,\n        \"num_unique_values\": 2180,\n        \"samples\": [\n          55332\n        ],\n        \"semantic_type\": \"\",\n        \"description\": \"\"\n      }\n    },\n    {\n      \"column\": \"fiber_ID\",\n      \"properties\": {\n        \"dtype\": \"number\",\n        \"std\": 272,\n        \"min\": 1,\n        \"max\": 1000,\n        \"num_unique_values\": 1000,\n        \"samples\": [\n          252\n        ],\n        \"semantic_type\": \"\",\n        \"description\": \"\"\n      }\n    }\n  ]\n}"
            }
          },
          "metadata": {},
          "execution_count": 13
        }
      ],
      "source": [
        "# import data/star_classification.csv\n",
        "data = pd.read_csv('data/star_classification.csv')\n",
        "data.head()"
      ]
    },
    {
      "cell_type": "code",
      "execution_count": 14,
      "metadata": {
        "colab": {
          "base_uri": "https://localhost:8080/",
          "height": 206
        },
        "id": "RzaXvUrJ4awQ",
        "outputId": "3d5c66be-35b5-4402-b19e-fcf0de2be19e"
      },
      "outputs": [
        {
          "output_type": "execute_result",
          "data": {
            "text/plain": [
              "         obj_ID       alpha      delta         u         g         r  \\\n",
              "0  1.237661e+18  135.689107  32.494632  23.87882  22.27530  20.39501   \n",
              "1  1.237665e+18  144.826101  31.274185  24.77759  22.83188  22.58444   \n",
              "2  1.237661e+18  142.188790  35.582444  25.26307  22.66389  20.60976   \n",
              "3  1.237663e+18  338.741038  -0.402828  22.13682  23.77656  21.61162   \n",
              "4  1.237680e+18  345.282593  21.183866  19.43718  17.58028  16.49747   \n",
              "\n",
              "          i         z  run_ID  rerun_ID  cam_col  field_ID   spec_obj_ID  \\\n",
              "0  19.16573  18.79371    3606       301        2        79  6.543777e+18   \n",
              "1  21.16812  21.61427    4518       301        5       119  1.176014e+19   \n",
              "2  19.34857  18.94827    3606       301        2       120  5.152200e+18   \n",
              "3  20.50454  19.25010    4192       301        3       214  1.030107e+19   \n",
              "4  15.97711  15.54461    8102       301        3       137  6.891865e+18   \n",
              "\n",
              "   redshift  plate    MJD  fiber_ID  \n",
              "0  0.634794   5812  56354       171  \n",
              "1  0.779136  10445  58158       427  \n",
              "2  0.644195   4576  55592       299  \n",
              "3  0.932346   9149  58039       775  \n",
              "4  0.116123   6121  56187       842  "
            ],
            "text/html": [
              "\n",
              "  <div id=\"df-ef0c1a94-d283-4e92-aecf-51855175e1be\" class=\"colab-df-container\">\n",
              "    <div>\n",
              "<style scoped>\n",
              "    .dataframe tbody tr th:only-of-type {\n",
              "        vertical-align: middle;\n",
              "    }\n",
              "\n",
              "    .dataframe tbody tr th {\n",
              "        vertical-align: top;\n",
              "    }\n",
              "\n",
              "    .dataframe thead th {\n",
              "        text-align: right;\n",
              "    }\n",
              "</style>\n",
              "<table border=\"1\" class=\"dataframe\">\n",
              "  <thead>\n",
              "    <tr style=\"text-align: right;\">\n",
              "      <th></th>\n",
              "      <th>obj_ID</th>\n",
              "      <th>alpha</th>\n",
              "      <th>delta</th>\n",
              "      <th>u</th>\n",
              "      <th>g</th>\n",
              "      <th>r</th>\n",
              "      <th>i</th>\n",
              "      <th>z</th>\n",
              "      <th>run_ID</th>\n",
              "      <th>rerun_ID</th>\n",
              "      <th>cam_col</th>\n",
              "      <th>field_ID</th>\n",
              "      <th>spec_obj_ID</th>\n",
              "      <th>redshift</th>\n",
              "      <th>plate</th>\n",
              "      <th>MJD</th>\n",
              "      <th>fiber_ID</th>\n",
              "    </tr>\n",
              "  </thead>\n",
              "  <tbody>\n",
              "    <tr>\n",
              "      <th>0</th>\n",
              "      <td>1.237661e+18</td>\n",
              "      <td>135.689107</td>\n",
              "      <td>32.494632</td>\n",
              "      <td>23.87882</td>\n",
              "      <td>22.27530</td>\n",
              "      <td>20.39501</td>\n",
              "      <td>19.16573</td>\n",
              "      <td>18.79371</td>\n",
              "      <td>3606</td>\n",
              "      <td>301</td>\n",
              "      <td>2</td>\n",
              "      <td>79</td>\n",
              "      <td>6.543777e+18</td>\n",
              "      <td>0.634794</td>\n",
              "      <td>5812</td>\n",
              "      <td>56354</td>\n",
              "      <td>171</td>\n",
              "    </tr>\n",
              "    <tr>\n",
              "      <th>1</th>\n",
              "      <td>1.237665e+18</td>\n",
              "      <td>144.826101</td>\n",
              "      <td>31.274185</td>\n",
              "      <td>24.77759</td>\n",
              "      <td>22.83188</td>\n",
              "      <td>22.58444</td>\n",
              "      <td>21.16812</td>\n",
              "      <td>21.61427</td>\n",
              "      <td>4518</td>\n",
              "      <td>301</td>\n",
              "      <td>5</td>\n",
              "      <td>119</td>\n",
              "      <td>1.176014e+19</td>\n",
              "      <td>0.779136</td>\n",
              "      <td>10445</td>\n",
              "      <td>58158</td>\n",
              "      <td>427</td>\n",
              "    </tr>\n",
              "    <tr>\n",
              "      <th>2</th>\n",
              "      <td>1.237661e+18</td>\n",
              "      <td>142.188790</td>\n",
              "      <td>35.582444</td>\n",
              "      <td>25.26307</td>\n",
              "      <td>22.66389</td>\n",
              "      <td>20.60976</td>\n",
              "      <td>19.34857</td>\n",
              "      <td>18.94827</td>\n",
              "      <td>3606</td>\n",
              "      <td>301</td>\n",
              "      <td>2</td>\n",
              "      <td>120</td>\n",
              "      <td>5.152200e+18</td>\n",
              "      <td>0.644195</td>\n",
              "      <td>4576</td>\n",
              "      <td>55592</td>\n",
              "      <td>299</td>\n",
              "    </tr>\n",
              "    <tr>\n",
              "      <th>3</th>\n",
              "      <td>1.237663e+18</td>\n",
              "      <td>338.741038</td>\n",
              "      <td>-0.402828</td>\n",
              "      <td>22.13682</td>\n",
              "      <td>23.77656</td>\n",
              "      <td>21.61162</td>\n",
              "      <td>20.50454</td>\n",
              "      <td>19.25010</td>\n",
              "      <td>4192</td>\n",
              "      <td>301</td>\n",
              "      <td>3</td>\n",
              "      <td>214</td>\n",
              "      <td>1.030107e+19</td>\n",
              "      <td>0.932346</td>\n",
              "      <td>9149</td>\n",
              "      <td>58039</td>\n",
              "      <td>775</td>\n",
              "    </tr>\n",
              "    <tr>\n",
              "      <th>4</th>\n",
              "      <td>1.237680e+18</td>\n",
              "      <td>345.282593</td>\n",
              "      <td>21.183866</td>\n",
              "      <td>19.43718</td>\n",
              "      <td>17.58028</td>\n",
              "      <td>16.49747</td>\n",
              "      <td>15.97711</td>\n",
              "      <td>15.54461</td>\n",
              "      <td>8102</td>\n",
              "      <td>301</td>\n",
              "      <td>3</td>\n",
              "      <td>137</td>\n",
              "      <td>6.891865e+18</td>\n",
              "      <td>0.116123</td>\n",
              "      <td>6121</td>\n",
              "      <td>56187</td>\n",
              "      <td>842</td>\n",
              "    </tr>\n",
              "  </tbody>\n",
              "</table>\n",
              "</div>\n",
              "    <div class=\"colab-df-buttons\">\n",
              "\n",
              "  <div class=\"colab-df-container\">\n",
              "    <button class=\"colab-df-convert\" onclick=\"convertToInteractive('df-ef0c1a94-d283-4e92-aecf-51855175e1be')\"\n",
              "            title=\"Convert this dataframe to an interactive table.\"\n",
              "            style=\"display:none;\">\n",
              "\n",
              "  <svg xmlns=\"http://www.w3.org/2000/svg\" height=\"24px\" viewBox=\"0 -960 960 960\">\n",
              "    <path d=\"M120-120v-720h720v720H120Zm60-500h600v-160H180v160Zm220 220h160v-160H400v160Zm0 220h160v-160H400v160ZM180-400h160v-160H180v160Zm440 0h160v-160H620v160ZM180-180h160v-160H180v160Zm440 0h160v-160H620v160Z\"/>\n",
              "  </svg>\n",
              "    </button>\n",
              "\n",
              "  <style>\n",
              "    .colab-df-container {\n",
              "      display:flex;\n",
              "      gap: 12px;\n",
              "    }\n",
              "\n",
              "    .colab-df-convert {\n",
              "      background-color: #E8F0FE;\n",
              "      border: none;\n",
              "      border-radius: 50%;\n",
              "      cursor: pointer;\n",
              "      display: none;\n",
              "      fill: #1967D2;\n",
              "      height: 32px;\n",
              "      padding: 0 0 0 0;\n",
              "      width: 32px;\n",
              "    }\n",
              "\n",
              "    .colab-df-convert:hover {\n",
              "      background-color: #E2EBFA;\n",
              "      box-shadow: 0px 1px 2px rgba(60, 64, 67, 0.3), 0px 1px 3px 1px rgba(60, 64, 67, 0.15);\n",
              "      fill: #174EA6;\n",
              "    }\n",
              "\n",
              "    .colab-df-buttons div {\n",
              "      margin-bottom: 4px;\n",
              "    }\n",
              "\n",
              "    [theme=dark] .colab-df-convert {\n",
              "      background-color: #3B4455;\n",
              "      fill: #D2E3FC;\n",
              "    }\n",
              "\n",
              "    [theme=dark] .colab-df-convert:hover {\n",
              "      background-color: #434B5C;\n",
              "      box-shadow: 0px 1px 3px 1px rgba(0, 0, 0, 0.15);\n",
              "      filter: drop-shadow(0px 1px 2px rgba(0, 0, 0, 0.3));\n",
              "      fill: #FFFFFF;\n",
              "    }\n",
              "  </style>\n",
              "\n",
              "    <script>\n",
              "      const buttonEl =\n",
              "        document.querySelector('#df-ef0c1a94-d283-4e92-aecf-51855175e1be button.colab-df-convert');\n",
              "      buttonEl.style.display =\n",
              "        google.colab.kernel.accessAllowed ? 'block' : 'none';\n",
              "\n",
              "      async function convertToInteractive(key) {\n",
              "        const element = document.querySelector('#df-ef0c1a94-d283-4e92-aecf-51855175e1be');\n",
              "        const dataTable =\n",
              "          await google.colab.kernel.invokeFunction('convertToInteractive',\n",
              "                                                    [key], {});\n",
              "        if (!dataTable) return;\n",
              "\n",
              "        const docLinkHtml = 'Like what you see? Visit the ' +\n",
              "          '<a target=\"_blank\" href=https://colab.research.google.com/notebooks/data_table.ipynb>data table notebook</a>'\n",
              "          + ' to learn more about interactive tables.';\n",
              "        element.innerHTML = '';\n",
              "        dataTable['output_type'] = 'display_data';\n",
              "        await google.colab.output.renderOutput(dataTable, element);\n",
              "        const docLink = document.createElement('div');\n",
              "        docLink.innerHTML = docLinkHtml;\n",
              "        element.appendChild(docLink);\n",
              "      }\n",
              "    </script>\n",
              "  </div>\n",
              "\n",
              "\n",
              "<div id=\"df-90efd4ac-77cc-436a-97f0-d24cb09b2c51\">\n",
              "  <button class=\"colab-df-quickchart\" onclick=\"quickchart('df-90efd4ac-77cc-436a-97f0-d24cb09b2c51')\"\n",
              "            title=\"Suggest charts\"\n",
              "            style=\"display:none;\">\n",
              "\n",
              "<svg xmlns=\"http://www.w3.org/2000/svg\" height=\"24px\"viewBox=\"0 0 24 24\"\n",
              "     width=\"24px\">\n",
              "    <g>\n",
              "        <path d=\"M19 3H5c-1.1 0-2 .9-2 2v14c0 1.1.9 2 2 2h14c1.1 0 2-.9 2-2V5c0-1.1-.9-2-2-2zM9 17H7v-7h2v7zm4 0h-2V7h2v10zm4 0h-2v-4h2v4z\"/>\n",
              "    </g>\n",
              "</svg>\n",
              "  </button>\n",
              "\n",
              "<style>\n",
              "  .colab-df-quickchart {\n",
              "      --bg-color: #E8F0FE;\n",
              "      --fill-color: #1967D2;\n",
              "      --hover-bg-color: #E2EBFA;\n",
              "      --hover-fill-color: #174EA6;\n",
              "      --disabled-fill-color: #AAA;\n",
              "      --disabled-bg-color: #DDD;\n",
              "  }\n",
              "\n",
              "  [theme=dark] .colab-df-quickchart {\n",
              "      --bg-color: #3B4455;\n",
              "      --fill-color: #D2E3FC;\n",
              "      --hover-bg-color: #434B5C;\n",
              "      --hover-fill-color: #FFFFFF;\n",
              "      --disabled-bg-color: #3B4455;\n",
              "      --disabled-fill-color: #666;\n",
              "  }\n",
              "\n",
              "  .colab-df-quickchart {\n",
              "    background-color: var(--bg-color);\n",
              "    border: none;\n",
              "    border-radius: 50%;\n",
              "    cursor: pointer;\n",
              "    display: none;\n",
              "    fill: var(--fill-color);\n",
              "    height: 32px;\n",
              "    padding: 0;\n",
              "    width: 32px;\n",
              "  }\n",
              "\n",
              "  .colab-df-quickchart:hover {\n",
              "    background-color: var(--hover-bg-color);\n",
              "    box-shadow: 0 1px 2px rgba(60, 64, 67, 0.3), 0 1px 3px 1px rgba(60, 64, 67, 0.15);\n",
              "    fill: var(--button-hover-fill-color);\n",
              "  }\n",
              "\n",
              "  .colab-df-quickchart-complete:disabled,\n",
              "  .colab-df-quickchart-complete:disabled:hover {\n",
              "    background-color: var(--disabled-bg-color);\n",
              "    fill: var(--disabled-fill-color);\n",
              "    box-shadow: none;\n",
              "  }\n",
              "\n",
              "  .colab-df-spinner {\n",
              "    border: 2px solid var(--fill-color);\n",
              "    border-color: transparent;\n",
              "    border-bottom-color: var(--fill-color);\n",
              "    animation:\n",
              "      spin 1s steps(1) infinite;\n",
              "  }\n",
              "\n",
              "  @keyframes spin {\n",
              "    0% {\n",
              "      border-color: transparent;\n",
              "      border-bottom-color: var(--fill-color);\n",
              "      border-left-color: var(--fill-color);\n",
              "    }\n",
              "    20% {\n",
              "      border-color: transparent;\n",
              "      border-left-color: var(--fill-color);\n",
              "      border-top-color: var(--fill-color);\n",
              "    }\n",
              "    30% {\n",
              "      border-color: transparent;\n",
              "      border-left-color: var(--fill-color);\n",
              "      border-top-color: var(--fill-color);\n",
              "      border-right-color: var(--fill-color);\n",
              "    }\n",
              "    40% {\n",
              "      border-color: transparent;\n",
              "      border-right-color: var(--fill-color);\n",
              "      border-top-color: var(--fill-color);\n",
              "    }\n",
              "    60% {\n",
              "      border-color: transparent;\n",
              "      border-right-color: var(--fill-color);\n",
              "    }\n",
              "    80% {\n",
              "      border-color: transparent;\n",
              "      border-right-color: var(--fill-color);\n",
              "      border-bottom-color: var(--fill-color);\n",
              "    }\n",
              "    90% {\n",
              "      border-color: transparent;\n",
              "      border-bottom-color: var(--fill-color);\n",
              "    }\n",
              "  }\n",
              "</style>\n",
              "\n",
              "  <script>\n",
              "    async function quickchart(key) {\n",
              "      const quickchartButtonEl =\n",
              "        document.querySelector('#' + key + ' button');\n",
              "      quickchartButtonEl.disabled = true;  // To prevent multiple clicks.\n",
              "      quickchartButtonEl.classList.add('colab-df-spinner');\n",
              "      try {\n",
              "        const charts = await google.colab.kernel.invokeFunction(\n",
              "            'suggestCharts', [key], {});\n",
              "      } catch (error) {\n",
              "        console.error('Error during call to suggestCharts:', error);\n",
              "      }\n",
              "      quickchartButtonEl.classList.remove('colab-df-spinner');\n",
              "      quickchartButtonEl.classList.add('colab-df-quickchart-complete');\n",
              "    }\n",
              "    (() => {\n",
              "      let quickchartButtonEl =\n",
              "        document.querySelector('#df-90efd4ac-77cc-436a-97f0-d24cb09b2c51 button');\n",
              "      quickchartButtonEl.style.display =\n",
              "        google.colab.kernel.accessAllowed ? 'block' : 'none';\n",
              "    })();\n",
              "  </script>\n",
              "</div>\n",
              "\n",
              "    </div>\n",
              "  </div>\n"
            ],
            "application/vnd.google.colaboratory.intrinsic+json": {
              "type": "dataframe",
              "variable_name": "cdata",
              "summary": "{\n  \"name\": \"cdata\",\n  \"rows\": 100000,\n  \"fields\": [\n    {\n      \"column\": \"obj_ID\",\n      \"properties\": {\n        \"dtype\": \"number\",\n        \"std\": 8438559894562.569,\n        \"min\": 1.23764594290439e+18,\n        \"max\": 1.2376805313563863e+18,\n        \"num_unique_values\": 78053,\n        \"samples\": [\n          1.2376623373364104e+18,\n          1.2376517368478438e+18,\n          1.2376584933481513e+18\n        ],\n        \"semantic_type\": \"\",\n        \"description\": \"\"\n      }\n    },\n    {\n      \"column\": \"alpha\",\n      \"properties\": {\n        \"dtype\": \"number\",\n        \"std\": 96.502240898332,\n        \"min\": 0.0055278279239701,\n        \"max\": 359.999809770956,\n        \"num_unique_values\": 99999,\n        \"samples\": [\n          118.663236264366,\n          358.991829744244,\n          30.887222067625\n        ],\n        \"semantic_type\": \"\",\n        \"description\": \"\"\n      }\n    },\n    {\n      \"column\": \"delta\",\n      \"properties\": {\n        \"dtype\": \"number\",\n        \"std\": 19.644665404293715,\n        \"min\": -18.7853280771825,\n        \"max\": 83.00051858898,\n        \"num_unique_values\": 99999,\n        \"samples\": [\n          39.6424291996807,\n          32.7490859208678,\n          1.18870964120799\n        ],\n        \"semantic_type\": \"\",\n        \"description\": \"\"\n      }\n    },\n    {\n      \"column\": \"u\",\n      \"properties\": {\n        \"dtype\": \"number\",\n        \"std\": 31.76929080375035,\n        \"min\": -9999.0,\n        \"max\": 32.78139,\n        \"num_unique_values\": 93748,\n        \"samples\": [\n          25.78018,\n          20.35472,\n          18.63082\n        ],\n        \"semantic_type\": \"\",\n        \"description\": \"\"\n      }\n    },\n    {\n      \"column\": \"g\",\n      \"properties\": {\n        \"dtype\": \"number\",\n        \"std\": 31.750292329083205,\n        \"min\": -9999.0,\n        \"max\": 31.60224,\n        \"num_unique_values\": 92651,\n        \"samples\": [\n          20.88286,\n          23.75559,\n          17.81253\n        ],\n        \"semantic_type\": \"\",\n        \"description\": \"\"\n      }\n    },\n    {\n      \"column\": \"r\",\n      \"properties\": {\n        \"dtype\": \"number\",\n        \"std\": 1.8547596943455285,\n        \"min\": 9.82207,\n        \"max\": 29.57186,\n        \"num_unique_values\": 91901,\n        \"samples\": [\n          17.36957,\n          21.53207,\n          16.49815\n        ],\n        \"semantic_type\": \"\",\n        \"description\": \"\"\n      }\n    },\n    {\n      \"column\": \"i\",\n      \"properties\": {\n        \"dtype\": \"number\",\n        \"std\": 1.7578947904903932,\n        \"min\": 9.469903,\n        \"max\": 32.14147,\n        \"num_unique_values\": 92019,\n        \"samples\": [\n          20.34415,\n          17.00401,\n          19.63559\n        ],\n        \"semantic_type\": \"\",\n        \"description\": \"\"\n      }\n    },\n    {\n      \"column\": \"z\",\n      \"properties\": {\n        \"dtype\": \"number\",\n        \"std\": 31.728151785953646,\n        \"min\": -9999.0,\n        \"max\": 29.38374,\n        \"num_unique_values\": 92007,\n        \"samples\": [\n          17.31985,\n          22.73434,\n          19.62752\n        ],\n        \"semantic_type\": \"\",\n        \"description\": \"\"\n      }\n    },\n    {\n      \"column\": \"run_ID\",\n      \"properties\": {\n        \"dtype\": \"number\",\n        \"std\": 1964,\n        \"min\": 109,\n        \"max\": 8162,\n        \"num_unique_values\": 430,\n        \"samples\": [\n          6174,\n          7917,\n          4679\n        ],\n        \"semantic_type\": \"\",\n        \"description\": \"\"\n      }\n    },\n    {\n      \"column\": \"rerun_ID\",\n      \"properties\": {\n        \"dtype\": \"number\",\n        \"std\": 0,\n        \"min\": 301,\n        \"max\": 301,\n        \"num_unique_values\": 1,\n        \"samples\": [\n          301\n        ],\n        \"semantic_type\": \"\",\n        \"description\": \"\"\n      }\n    },\n    {\n      \"column\": \"cam_col\",\n      \"properties\": {\n        \"dtype\": \"number\",\n        \"std\": 1,\n        \"min\": 1,\n        \"max\": 6,\n        \"num_unique_values\": 6,\n        \"samples\": [\n          2\n        ],\n        \"semantic_type\": \"\",\n        \"description\": \"\"\n      }\n    },\n    {\n      \"column\": \"field_ID\",\n      \"properties\": {\n        \"dtype\": \"number\",\n        \"std\": 149,\n        \"min\": 11,\n        \"max\": 989,\n        \"num_unique_values\": 856,\n        \"samples\": [\n          706\n        ],\n        \"semantic_type\": \"\",\n        \"description\": \"\"\n      }\n    },\n    {\n      \"column\": \"spec_obj_ID\",\n      \"properties\": {\n        \"dtype\": \"number\",\n        \"std\": 3.324016169583858e+18,\n        \"min\": 2.9951908938097664e+17,\n        \"max\": 1.4126940609093851e+19,\n        \"num_unique_values\": 100000,\n        \"samples\": [\n          4.855016555329904e+18\n        ],\n        \"semantic_type\": \"\",\n        \"description\": \"\"\n      }\n    },\n    {\n      \"column\": \"redshift\",\n      \"properties\": {\n        \"dtype\": \"number\",\n        \"std\": 0.7307072761888087,\n        \"min\": -0.009970667,\n        \"max\": 7.011245,\n        \"num_unique_values\": 99295,\n        \"samples\": [\n          3.202965\n        ],\n        \"semantic_type\": \"\",\n        \"description\": \"\"\n      }\n    },\n    {\n      \"column\": \"plate\",\n      \"properties\": {\n        \"dtype\": \"number\",\n        \"std\": 2952,\n        \"min\": 266,\n        \"max\": 12547,\n        \"num_unique_values\": 6284,\n        \"samples\": [\n          2264\n        ],\n        \"semantic_type\": \"\",\n        \"description\": \"\"\n      }\n    },\n    {\n      \"column\": \"MJD\",\n      \"properties\": {\n        \"dtype\": \"number\",\n        \"std\": 1808,\n        \"min\": 51608,\n        \"max\": 58932,\n        \"num_unique_values\": 2180,\n        \"samples\": [\n          55332\n        ],\n        \"semantic_type\": \"\",\n        \"description\": \"\"\n      }\n    },\n    {\n      \"column\": \"fiber_ID\",\n      \"properties\": {\n        \"dtype\": \"number\",\n        \"std\": 272,\n        \"min\": 1,\n        \"max\": 1000,\n        \"num_unique_values\": 1000,\n        \"samples\": [\n          252\n        ],\n        \"semantic_type\": \"\",\n        \"description\": \"\"\n      }\n    }\n  ]\n}"
            }
          },
          "metadata": {},
          "execution_count": 14
        }
      ],
      "source": [
        "# Clean the data\n",
        "data = data.dropna()\n",
        "data = data.drop_duplicates()\n",
        "cdata = data.drop(['class'], axis=1) # drop class column so we can predict it later\n",
        "cdata.head()"
      ]
    },
    {
      "cell_type": "code",
      "execution_count": 15,
      "metadata": {
        "id": "vjT1AWoz4awS"
      },
      "outputs": [],
      "source": [
        "# Create numeric classes for the class column\n",
        "# useful for plotting\n",
        "label_encoder = LabelEncoder()\n",
        "numeric_classes = label_encoder.fit_transform(data['class'])"
      ]
    },
    {
      "cell_type": "markdown",
      "metadata": {
        "id": "n9fNHdlQQhmv"
      },
      "source": [
        "## (2) Dimensionality Reduction"
      ]
    },
    {
      "cell_type": "markdown",
      "metadata": {
        "id": "lcfKaM0oDFY_"
      },
      "source": [
        "### Data described\n",
        "[Stellar Classification Dataset](https://www.kaggle.com/datasets/fedesoriano/stellar-classification-dataset-sdss17)\n",
        "\n",
        "\n",
        "The dataset chosen for this project is used to predict stellar objects based on around 18 different attributes. We chose to predict the class of the object so that field was removed from dataset so that we can predict it later.\n",
        "\n",
        "This list is pulled directly from the Kaggle page about the datasheet.\n",
        "1. obj_ID = Object Identifier, the unique value that identifies the object in the image catalog used by the CAS\n",
        "2. alpha = Right Ascension angle (at J2000 epoch)\n",
        "3. delta = Declination angle (at J2000 epoch)\n",
        "4. u = Ultraviolet filter in the photometric system\n",
        "5. g = Green filter in the photometric system\n",
        "6. r = Red filter in the photometric system\n",
        "7. i = Near Infrared filter in the photometric system\n",
        "8. z = Infrared filter in the photometric system\n",
        "9. run_ID = Run Number used to identify the specific scan\n",
        "10. rereun_ID = Rerun Number to specify how the image was processed\n",
        "11. cam_col = Camera column to identify the scanline within the run\n",
        "12. field_ID = Field number to identify each field\n",
        "13. spec_obj_ID = Unique ID used for optical spectroscopic objects (this means that 2 different observations with the same spec_obj_ID must share the output class)\n",
        "14. class = object class (galaxy, star or quasar object)\n",
        "15. redshift = redshift value based on the increase in wavelength\n",
        "16. plate = plate ID, identifies each plate in SDSS\n",
        "17. MJD = Modified Julian Date, used to indicate when a given piece of SDSS data was taken\n",
        "18. fiber_ID = fiber ID that identifies the fiber that pointed the light at the focal plane in each observation"
      ]
    },
    {
      "cell_type": "code",
      "execution_count": 16,
      "metadata": {
        "colab": {
          "base_uri": "https://localhost:8080/"
        },
        "id": "fCtHRtSyDFZA",
        "outputId": "42d60a7e-8ae4-4505-ddff-06b85669dda5"
      },
      "outputs": [
        {
          "output_type": "stream",
          "name": "stdout",
          "text": [
            "Number of instances:  100000\n",
            "\n",
            "Number of attributes:  18\n",
            "\n",
            "Domain:  Index(['obj_ID', 'alpha', 'delta', 'u', 'g', 'r', 'i', 'z', 'run_ID',\n",
            "       'rerun_ID', 'cam_col', 'field_ID', 'spec_obj_ID', 'class', 'redshift',\n",
            "       'plate', 'MJD', 'fiber_ID'],\n",
            "      dtype='object')\n",
            "\n",
            "Type of attributes:  obj_ID         float64\n",
            "alpha          float64\n",
            "delta          float64\n",
            "u              float64\n",
            "g              float64\n",
            "r              float64\n",
            "i              float64\n",
            "z              float64\n",
            "run_ID           int64\n",
            "rerun_ID         int64\n",
            "cam_col          int64\n",
            "field_ID         int64\n",
            "spec_obj_ID    float64\n",
            "class           object\n",
            "redshift       float64\n",
            "plate            int64\n",
            "MJD              int64\n",
            "fiber_ID         int64\n",
            "dtype: object\n",
            "\n",
            "Relevant information:               obj_ID          alpha          delta              u  \\\n",
            "count  1.000000e+05  100000.000000  100000.000000  100000.000000   \n",
            "mean   1.237665e+18     177.629117      24.135305      21.980468   \n",
            "std    8.438560e+12      96.502241      19.644665      31.769291   \n",
            "min    1.237646e+18       0.005528     -18.785328   -9999.000000   \n",
            "25%    1.237659e+18     127.518222       5.146771      20.352353   \n",
            "50%    1.237663e+18     180.900700      23.645922      22.179135   \n",
            "75%    1.237668e+18     233.895005      39.901550      23.687440   \n",
            "max    1.237681e+18     359.999810      83.000519      32.781390   \n",
            "\n",
            "                   g              r              i              z  \\\n",
            "count  100000.000000  100000.000000  100000.000000  100000.000000   \n",
            "mean       20.531387      19.645762      19.084854      18.668810   \n",
            "std        31.750292       1.854760       1.757895      31.728152   \n",
            "min     -9999.000000       9.822070       9.469903   -9999.000000   \n",
            "25%        18.965230      18.135828      17.732285      17.460677   \n",
            "50%        21.099835      20.125290      19.405145      19.004595   \n",
            "75%        22.123767      21.044785      20.396495      19.921120   \n",
            "max        31.602240      29.571860      32.141470      29.383740   \n",
            "\n",
            "              run_ID  rerun_ID        cam_col       field_ID   spec_obj_ID  \\\n",
            "count  100000.000000  100000.0  100000.000000  100000.000000  1.000000e+05   \n",
            "mean     4481.366060     301.0       3.511610     186.130520  5.783882e+18   \n",
            "std      1964.764593       0.0       1.586912     149.011073  3.324016e+18   \n",
            "min       109.000000     301.0       1.000000      11.000000  2.995191e+17   \n",
            "25%      3187.000000     301.0       2.000000      82.000000  2.844138e+18   \n",
            "50%      4188.000000     301.0       4.000000     146.000000  5.614883e+18   \n",
            "75%      5326.000000     301.0       5.000000     241.000000  8.332144e+18   \n",
            "max      8162.000000     301.0       6.000000     989.000000  1.412694e+19   \n",
            "\n",
            "            redshift          plate            MJD       fiber_ID  \n",
            "count  100000.000000  100000.000000  100000.000000  100000.000000  \n",
            "mean        0.576661    5137.009660   55588.647500     449.312740  \n",
            "std         0.730707    2952.303351    1808.484233     272.498404  \n",
            "min        -0.009971     266.000000   51608.000000       1.000000  \n",
            "25%         0.054517    2526.000000   54234.000000     221.000000  \n",
            "50%         0.424173    4987.000000   55868.500000     433.000000  \n",
            "75%         0.704154    7400.250000   56777.000000     645.000000  \n",
            "max         7.011245   12547.000000   58932.000000    1000.000000  \n"
          ]
        }
      ],
      "source": [
        "# Describe your data with a short text paragraph: describe the domain, number and type of attributes, number of instances, and anything else that seems to be relevant.\n",
        "\n",
        "# instances\n",
        "print(\"Number of instances: \", data.shape[0])\n",
        "\n",
        "# attributes\n",
        "print(\"\\nNumber of attributes: \", data.shape[1])\n",
        "\n",
        "# domain\n",
        "print(\"\\nDomain: \", data.columns)\n",
        "\n",
        "# type of attributes\n",
        "print(\"\\nType of attributes: \", data.dtypes)\n",
        "\n",
        "# relevant information\n",
        "print(\"\\nRelevant information: \", data.describe())"
      ]
    },
    {
      "cell_type": "markdown",
      "metadata": {
        "id": "_gpRE9MzDFZB"
      },
      "source": [
        "### Preparing for PCA\n",
        "To get a better idea of how many components we should use for our dimensionality reduction there are these two graphs that will help to visualize the data.\n",
        "With these two plots we are able to determine what number of components we should use to retain an approximate 95% of variance.\n",
        "\n",
        "1. Scree Plot\n",
        "- Visualizes the eigenvalues of the components.\n",
        "- Where the slope of the curve flattens is a decent cutoff point.\n",
        "\n",
        "2. Explained Variance Ratio\n",
        "- Indicates the proportion of the dataset's total variance explained by each component.\n",
        "- By plotting these values we can determine the number of components to explain a desired amount of total variance."
      ]
    },
    {
      "cell_type": "code",
      "execution_count": 17,
      "metadata": {
        "colab": {
          "base_uri": "https://localhost:8080/",
          "height": 957
        },
        "id": "ZN2y59vi4awT",
        "outputId": "cd635492-7d5d-4687-ac91-a0405edda743"
      },
      "outputs": [
        {
          "output_type": "display_data",
          "data": {
            "text/plain": [
              "<Figure size 800x500 with 1 Axes>"
            ],
            "image/png": "[encoded data removed]"
          },
          "metadata": {}
        },
        {
          "output_type": "display_data",
          "data": {
            "text/plain": [
              "<Figure size 800x500 with 1 Axes>"
            ],
            "image/png": "[encoded data removed]"
          },
          "metadata": {}
        }
      ],
      "source": [
        "# Start by determining the number of principal components to use\n",
        "# to retain 95% of the variance\n",
        "\n",
        "# Standardize the Data\n",
        "scaler = StandardScaler()\n",
        "scaler.fit(cdata)\n",
        "scaled_data = scaler.transform(cdata)\n",
        "\n",
        "# Perform PCA without reducing dimensionality to compute full variance\n",
        "pca = PCA()\n",
        "pca.fit(scaled_data)\n",
        "\n",
        "# Plot the explained variance by each component\n",
        "plt.figure(figsize=(8, 5))\n",
        "plt.plot(range(1, len(pca.explained_variance_) + 1), pca.explained_variance_, marker='o')\n",
        "plt.xlabel('Number of Components')\n",
        "plt.ylabel('Eigenvalues')\n",
        "plt.title('Scree Plot')\n",
        "plt.grid(True)\n",
        "plt.show()\n",
        "\n",
        "# Calculate cumulative variance explained by all components\n",
        "cumulative_variance = pca.explained_variance_ratio_.cumsum()\n",
        "\n",
        "# Plot the cumulative explained variance\n",
        "plt.figure(figsize=(8, 5))\n",
        "plt.plot(range(1, len(cumulative_variance) + 1), cumulative_variance, marker='o')\n",
        "plt.xlabel('Number of Components')\n",
        "plt.ylabel('Cumulative Explained Variance')\n",
        "plt.title('Explained Variance by Different Principal Components')\n",
        "plt.axhline(y=0.95, color='r', linestyle='--')  # Line at 95% variance\n",
        "plt.grid(True)\n",
        "plt.show()"
      ]
    },
    {
      "cell_type": "markdown",
      "metadata": {
        "id": "-bLcZ-jO4awU"
      },
      "source": [
        "### Performing PCA\n",
        "We chose to do PCA decomposition for our dimensionality reduction.\n",
        "\n",
        "Based on the data above, we should be permforming PCA with around 8-9 components to retain our 95% variance."
      ]
    },
    {
      "cell_type": "code",
      "execution_count": 18,
      "metadata": {
        "colab": {
          "base_uri": "https://localhost:8080/",
          "height": 1000
        },
        "id": "NL8MrqilQoru",
        "outputId": "e24c1cb0-7a71-4be3-e1de-f72dce3dbf1c"
      },
      "outputs": [
        {
          "output_type": "display_data",
          "data": {
            "text/plain": [
              "<Figure size 800x600 with 1 Axes>"
            ],
            "image/png": "[encoded data removed]"
          },
          "metadata": {}
        },
        {
          "output_type": "stream",
          "name": "stdout",
          "text": [
            "[0.29323714 0.18625784 0.12923462 0.07864501 0.06756852 0.05676373\n",
            " 0.05299149 0.05006391 0.04396882]\n",
            "0.9587310928680357\n"
          ]
        },
        {
          "output_type": "display_data",
          "data": {
            "text/plain": [
              "<Figure size 800x600 with 1 Axes>"
            ],
            "image/png": "[encoded data removed]"
          },
          "metadata": {}
        }
      ],
      "source": [
        "# PCA\n",
        "pca = PCA(n_components=9)\n",
        "pca.fit(scaled_data)\n",
        "x_pca = pca.transform(scaled_data)\n",
        "\n",
        "# Plot the PCA\n",
        "plt.figure(figsize=(8,6))\n",
        "scatter = plt.scatter(x_pca[:,0], x_pca[:,1], c=numeric_classes, cmap='viridis')\n",
        "plt.xlabel('First principal component')\n",
        "plt.ylabel('Second Principal Component')\n",
        "\n",
        "# Create a legend\n",
        "classes = label_encoder.classes_\n",
        "handles = [plt.Line2D([0], [0], marker='o', color='w', markerfacecolor=scatter.cmap(scatter.norm(i)), markersize=10) for i in range(len(classes))]\n",
        "plt.legend(handles, classes, title=\"Classes\")\n",
        "plt.title('PCA')\n",
        "\n",
        "plt.show()\n",
        "\n",
        "# Explained Variance\n",
        "print(pca.explained_variance_ratio_)\n",
        "print(pca.explained_variance_ratio_.sum())\n",
        "\n",
        "# Plot the explained variance\n",
        "plt.figure(figsize=(8,6))\n",
        "plt.plot(np.cumsum(pca.explained_variance_ratio_))\n",
        "plt.xlabel('Number of Components')\n",
        "plt.ylabel('Variance (%)')\n",
        "plt.title('Explained Variance')\n",
        "plt.show()"
      ]
    },
    {
      "cell_type": "markdown",
      "metadata": {
        "id": "ErRMGNOTDFZC"
      },
      "source": [
        "## (3-4) Model Training and Evaluation\n",
        "- We wanted to try out a few different models to compare a few different things\n",
        "- Mainly model speed and accuracy\n",
        "- Some of these models take up to a minute where as the decision tree is almost instant."
      ]
    },
    {
      "cell_type": "code",
      "execution_count": 19,
      "metadata": {
        "colab": {
          "base_uri": "https://localhost:8080/"
        },
        "id": "yxPo43C9DFZC",
        "outputId": "a919d885-3b02-4f4b-8f21-c894f454a919"
      },
      "outputs": [
        {
          "output_type": "stream",
          "name": "stdout",
          "text": [
            "(70000, 9)\n",
            "(70000,)\n",
            "(30000, 9)\n",
            "(30000,)\n"
          ]
        }
      ],
      "source": [
        "# Split the data into training and testing sets\n",
        "X_train, X_test, y_train, y_test = train_test_split(x_pca, numeric_classes, test_size=0.3)\n",
        "\n",
        "print(X_train.shape)\n",
        "print(y_train.shape)\n",
        "print(X_test.shape)\n",
        "print(y_test.shape)"
      ]
    },
    {
      "cell_type": "markdown",
      "metadata": {
        "id": "HN0P-8VcDFZD"
      },
      "source": [
        "### (3) Training Model (MLP Classifier)\n",
        "- Multi-layered Perceptron Classifier"
      ]
    },
    {
      "cell_type": "code",
      "execution_count": 20,
      "metadata": {
        "colab": {
          "base_uri": "https://localhost:8080/",
          "height": 729
        },
        "id": "XQibOKjEQsrY",
        "outputId": "e7de5981-4915-4f59-8eda-2c75c867ffa7"
      },
      "outputs": [
        {
          "output_type": "stream",
          "name": "stdout",
          "text": [
            "[[16742   285   760]\n",
            " [  511  5246    18]\n",
            " [ 1314    11  5113]]\n",
            "              precision    recall  f1-score   support\n",
            "\n",
            "           0       0.90      0.94      0.92     17787\n",
            "           1       0.95      0.91      0.93      5775\n",
            "           2       0.87      0.79      0.83      6438\n",
            "\n",
            "    accuracy                           0.90     30000\n",
            "   macro avg       0.91      0.88      0.89     30000\n",
            "weighted avg       0.90      0.90      0.90     30000\n",
            "\n"
          ]
        },
        {
          "output_type": "display_data",
          "data": {
            "text/plain": [
              "<Figure size 800x600 with 0 Axes>"
            ]
          },
          "metadata": {}
        },
        {
          "output_type": "display_data",
          "data": {
            "text/plain": [
              "<Figure size 480x480 with 1 Axes>"
            ],
            "image/png": "[encoded data removed]"
          },
          "metadata": {}
        }
      ],
      "source": [
        "# neural network\n",
        "from sklearn.neural_network import MLPClassifier\n",
        "\n",
        "# Train the model\n",
        "mlp = MLPClassifier(hidden_layer_sizes=(9,9,9), max_iter=1000)\n",
        "mlp.fit(X_train, y_train)\n",
        "\n",
        "# Predictions\n",
        "predictions = mlp.predict(X_test)\n",
        "\n",
        "# Evaluate the model\n",
        "print(confusion_matrix(y_test, predictions))\n",
        "print(classification_report(y_test, predictions))\n",
        "\n",
        "# Plot the confusion matrix\n",
        "plt.figure(figsize=(8,6))\n",
        "cm = confusion_matrix(y_test, predictions)\n",
        "plt.matshow(cm, cmap='Blues')\n",
        "\n",
        "for i in range(cm.shape[0]):\n",
        "    for j in range(cm.shape[1]):\n",
        "        plt.text(x=j, y=i, s=cm[i, j], va='center', ha='center')\n",
        "\n",
        "plt.xlabel('Predicted label')\n",
        "plt.ylabel('True label')\n",
        "plt.title('Confusion Matrix')\n",
        "plt.show()"
      ]
    },
    {
      "cell_type": "markdown",
      "metadata": {
        "id": "MfFvSEuSQtok"
      },
      "source": [
        "### (4) Evaluate Model (MLP Classifier)"
      ]
    },
    {
      "cell_type": "code",
      "execution_count": 21,
      "metadata": {
        "colab": {
          "base_uri": "https://localhost:8080/"
        },
        "id": "NMArnuJ6Qwb5",
        "outputId": "d3d78b06-582c-4725-a06d-5d8788af5cac"
      },
      "outputs": [
        {
          "output_type": "stream",
          "name": "stdout",
          "text": [
            "Accuracy: 0.90\n",
            "Precision: 0.90\n",
            "Recall: 0.90\n",
            "F1 score: 0.90\n"
          ]
        }
      ],
      "source": [
        "# Accuracy\n",
        "accuracy = accuracy_score(y_test, predictions)\n",
        "print('Accuracy: %.2f' % accuracy)\n",
        "\n",
        "# Precision\n",
        "precision = precision_score(y_test, predictions, average='weighted')\n",
        "print('Precision: %.2f' % precision)\n",
        "\n",
        "# Recall\n",
        "recall = recall_score(y_test, predictions, average='weighted')\n",
        "print('Recall: %.2f' % recall)\n",
        "\n",
        "# F1\n",
        "f1 = f1_score(y_test, predictions, average='weighted')\n",
        "print('F1 score: %.2f' % f1)"
      ]
    },
    {
      "cell_type": "markdown",
      "metadata": {
        "id": "jYyHhPnx4rih"
      },
      "source": [
        "### (3) Training Model (Decision Tree)"
      ]
    },
    {
      "cell_type": "code",
      "execution_count": 22,
      "metadata": {
        "colab": {
          "base_uri": "https://localhost:8080/",
          "height": 729
        },
        "id": "wlSiVoZb4uMC",
        "outputId": "74d13335-a5d4-4424-dc5b-ceb6c431c20b"
      },
      "outputs": [
        {
          "output_type": "stream",
          "name": "stdout",
          "text": [
            "[[15868   715  1204]\n",
            " [  740  4963    72]\n",
            " [ 1156    92  5190]]\n",
            "              precision    recall  f1-score   support\n",
            "\n",
            "           0       0.89      0.89      0.89     17787\n",
            "           1       0.86      0.86      0.86      5775\n",
            "           2       0.80      0.81      0.80      6438\n",
            "\n",
            "    accuracy                           0.87     30000\n",
            "   macro avg       0.85      0.85      0.85     30000\n",
            "weighted avg       0.87      0.87      0.87     30000\n",
            "\n"
          ]
        },
        {
          "output_type": "display_data",
          "data": {
            "text/plain": [
              "<Figure size 800x600 with 0 Axes>"
            ]
          },
          "metadata": {}
        },
        {
          "output_type": "display_data",
          "data": {
            "text/plain": [
              "<Figure size 480x480 with 1 Axes>"
            ],
            "image/png": "[encoded data removed]"
          },
          "metadata": {}
        }
      ],
      "source": [
        "# decision tree\n",
        "from sklearn import tree\n",
        "# Train the model\n",
        "clf = tree.DecisionTreeClassifier()\n",
        "clf.fit(X_train, y_train)\n",
        "\n",
        "# Predictions\n",
        "predictions = clf.predict(X_test)\n",
        "\n",
        "# Evaluate the model\n",
        "print(confusion_matrix(y_test, predictions))\n",
        "print(classification_report(y_test, predictions))\n",
        "\n",
        "# Plot the confusion matrix\n",
        "plt.figure(figsize=(8,6))\n",
        "cm = confusion_matrix(y_test, predictions)\n",
        "plt.matshow(cm, cmap='Blues')\n",
        "\n",
        "for i in range(cm.shape[0]):\n",
        "    for j in range(cm.shape[1]):\n",
        "        plt.text(x=j, y=i, s=cm[i, j], va='center', ha='center')\n",
        "\n",
        "plt.xlabel('Predicted label')\n",
        "plt.ylabel('True label')\n",
        "plt.title('Confusion Matrix')\n",
        "plt.show()"
      ]
    },
    {
      "cell_type": "markdown",
      "metadata": {
        "id": "Ufs__FJx5L7t"
      },
      "source": [
        "### (4) Evaluate Model (Decision Tree)"
      ]
    },
    {
      "cell_type": "code",
      "execution_count": 23,
      "metadata": {
        "colab": {
          "base_uri": "https://localhost:8080/"
        },
        "id": "jtkavuTr5JCy",
        "outputId": "3dab8c79-f63b-49b9-e94b-290f35b2d515"
      },
      "outputs": [
        {
          "output_type": "stream",
          "name": "stdout",
          "text": [
            "Accuracy: 0.87\n",
            "Precision: 0.87\n",
            "Recall: 0.87\n",
            "F1 score: 0.87\n"
          ]
        }
      ],
      "source": [
        "# Accuracy\n",
        "accuracy = accuracy_score(y_test, predictions)\n",
        "print('Accuracy: %.2f' % accuracy)\n",
        "\n",
        "# Precision\n",
        "precision = precision_score(y_test, predictions, average='weighted')\n",
        "print('Precision: %.2f' % precision)\n",
        "\n",
        "# Recall\n",
        "recall = recall_score(y_test, predictions, average='weighted')\n",
        "print('Recall: %.2f' % recall)\n",
        "\n",
        "# F1\n",
        "f1 = f1_score(y_test, predictions, average='weighted')\n",
        "print('F1 score: %.2f' % f1)"
      ]
    },
    {
      "cell_type": "markdown",
      "metadata": {
        "id": "TfZzjyXEAfcO"
      },
      "source": [
        "### (3) Training Model (Support Vector Machine)"
      ]
    },
    {
      "cell_type": "code",
      "execution_count": 24,
      "metadata": {
        "colab": {
          "base_uri": "https://localhost:8080/",
          "height": 729
        },
        "id": "cCX7-B2K_7T1",
        "outputId": "427281b9-3e53-43ee-8835-c4d6baf654b8"
      },
      "outputs": [
        {
          "output_type": "stream",
          "name": "stdout",
          "text": [
            "[[16708   161   918]\n",
            " [  889  4843    43]\n",
            " [ 1466     5  4967]]\n",
            "              precision    recall  f1-score   support\n",
            "\n",
            "           0       0.88      0.94      0.91     17787\n",
            "           1       0.97      0.84      0.90      5775\n",
            "           2       0.84      0.77      0.80      6438\n",
            "\n",
            "    accuracy                           0.88     30000\n",
            "   macro avg       0.89      0.85      0.87     30000\n",
            "weighted avg       0.89      0.88      0.88     30000\n",
            "\n"
          ]
        },
        {
          "output_type": "display_data",
          "data": {
            "text/plain": [
              "<Figure size 800x600 with 0 Axes>"
            ]
          },
          "metadata": {}
        },
        {
          "output_type": "display_data",
          "data": {
            "text/plain": [
              "<Figure size 480x480 with 1 Axes>"
            ],
            "image/png": "[encoded data removed]"
          },
          "metadata": {}
        }
      ],
      "source": [
        "# support vector machine\n",
        "from sklearn import svm\n",
        "# Train the model\n",
        "clf = svm.SVC()\n",
        "clf.fit(X_train, y_train)\n",
        "\n",
        "# Predictions\n",
        "predictions = clf.predict(X_test)\n",
        "\n",
        "# Evaluate the model\n",
        "print(confusion_matrix(y_test, predictions))\n",
        "print(classification_report(y_test, predictions))\n",
        "\n",
        "# Plot the confusion matrix\n",
        "plt.figure(figsize=(8,6))\n",
        "cm = confusion_matrix(y_test, predictions)\n",
        "plt.matshow(cm, cmap='Blues')\n",
        "\n",
        "for i in range(cm.shape[0]):\n",
        "    for j in range(cm.shape[1]):\n",
        "        plt.text(x=j, y=i, s=cm[i, j], va='center', ha='center')\n",
        "\n",
        "plt.xlabel('Predicted label')\n",
        "plt.ylabel('True label')\n",
        "plt.title('Confusion Matrix')\n",
        "plt.show()"
      ]
    },
    {
      "cell_type": "markdown",
      "metadata": {
        "id": "oaci2FPJAqE2"
      },
      "source": [
        "### (4) Evaluate Model (Support Vector Machine)"
      ]
    },
    {
      "cell_type": "code",
      "execution_count": 25,
      "metadata": {
        "colab": {
          "base_uri": "https://localhost:8080/"
        },
        "id": "VVaRiYkBAkhL",
        "outputId": "6b9cc91b-25d5-4db5-8265-ba78e452bc57"
      },
      "outputs": [
        {
          "output_type": "stream",
          "name": "stdout",
          "text": [
            "Accuracy: 0.88\n",
            "Precision: 0.89\n",
            "Recall: 0.88\n",
            "F1 score: 0.88\n"
          ]
        }
      ],
      "source": [
        "# Accuracy\n",
        "accuracy = accuracy_score(y_test, predictions)\n",
        "print('Accuracy: %.2f' % accuracy)\n",
        "\n",
        "# Precision\n",
        "precision = precision_score(y_test, predictions, average='weighted')\n",
        "print('Precision: %.2f' % precision)\n",
        "\n",
        "# Recall\n",
        "recall = recall_score(y_test, predictions, average='weighted')\n",
        "print('Recall: %.2f' % recall)\n",
        "\n",
        "# F1\n",
        "f1 = f1_score(y_test, predictions, average='weighted')\n",
        "print('F1 score: %.2f' % f1)"
      ]
    },
    {
      "cell_type": "markdown",
      "metadata": {
        "id": "zaBH6tDbDFZG"
      },
      "source": [
        "### (4) Training Model (Sequential Model)\n",
        "- Wanted to take a stab at building out a model of my own.\n",
        "- Takes about 1m30s to run.\n",
        "- Compares pretty well in accuracy to the other methods."
      ]
    },
    {
      "cell_type": "code",
      "execution_count": 26,
      "metadata": {
        "id": "MIgNa2haDFZG",
        "outputId": "c681156e-e6a9-4c7d-88de-b497420c6df3",
        "colab": {
          "base_uri": "https://localhost:8080/",
          "height": 1000
        }
      },
      "outputs": [
        {
          "output_type": "stream",
          "name": "stdout",
          "text": [
            "Model: \"sequential\"\n",
            "_________________________________________________________________\n",
            " Layer (type)                Output Shape              Param #   \n",
            "=================================================================\n",
            " hidden1 (Dense)             (None, 18)                180       \n",
            "                                                                 \n",
            " hidden2 (Dense)             (None, 18)                342       \n",
            "                                                                 \n",
            " dropout (Dropout)           (None, 18)                0         \n",
            "                                                                 \n",
            " hidden3 (Dense)             (None, 18)                342       \n",
            "                                                                 \n",
            " output (Dense)              (None, 3)                 57        \n",
            "                                                                 \n",
            "=================================================================\n",
            "Total params: 921 (3.60 KB)\n",
            "Trainable params: 921 (3.60 KB)\n",
            "Non-trainable params: 0 (0.00 Byte)\n",
            "_________________________________________________________________\n",
            "Epoch 1/50\n",
            "2800/2800 - 8s - loss: 0.5564 - accuracy: 0.7598 - val_loss: 0.4500 - val_accuracy: 0.8053 - 8s/epoch - 3ms/step\n",
            "Epoch 2/50\n",
            "2800/2800 - 7s - loss: 0.4271 - accuracy: 0.8244 - val_loss: 0.3705 - val_accuracy: 0.8477 - 7s/epoch - 3ms/step\n",
            "Epoch 3/50\n",
            "2800/2800 - 10s - loss: 0.3704 - accuracy: 0.8566 - val_loss: 0.3475 - val_accuracy: 0.8657 - 10s/epoch - 4ms/step\n",
            "Epoch 4/50\n",
            "2800/2800 - 11s - loss: 0.3445 - accuracy: 0.8711 - val_loss: 0.3084 - val_accuracy: 0.8827 - 11s/epoch - 4ms/step\n",
            "Epoch 5/50\n",
            "2800/2800 - 6s - loss: 0.3308 - accuracy: 0.8753 - val_loss: 0.3046 - val_accuracy: 0.8892 - 6s/epoch - 2ms/step\n",
            "Epoch 6/50\n",
            "2800/2800 - 6s - loss: 0.3221 - accuracy: 0.8815 - val_loss: 0.3013 - val_accuracy: 0.8890 - 6s/epoch - 2ms/step\n",
            "Epoch 7/50\n",
            "2800/2800 - 8s - loss: 0.3162 - accuracy: 0.8832 - val_loss: 0.2864 - val_accuracy: 0.8986 - 8s/epoch - 3ms/step\n",
            "Epoch 8/50\n",
            "2800/2800 - 7s - loss: 0.3105 - accuracy: 0.8850 - val_loss: 0.2863 - val_accuracy: 0.8986 - 7s/epoch - 3ms/step\n",
            "Epoch 9/50\n",
            "2800/2800 - 8s - loss: 0.3088 - accuracy: 0.8864 - val_loss: 0.2888 - val_accuracy: 0.8945 - 8s/epoch - 3ms/step\n",
            "Epoch 10/50\n",
            "2800/2800 - 7s - loss: 0.3048 - accuracy: 0.8882 - val_loss: 0.2862 - val_accuracy: 0.8981 - 7s/epoch - 3ms/step\n",
            "Epoch 11/50\n",
            "2800/2800 - 8s - loss: 0.3023 - accuracy: 0.8891 - val_loss: 0.2831 - val_accuracy: 0.8972 - 8s/epoch - 3ms/step\n",
            "Epoch 12/50\n",
            "2800/2800 - 11s - loss: 0.2983 - accuracy: 0.8919 - val_loss: 0.2768 - val_accuracy: 0.9024 - 11s/epoch - 4ms/step\n",
            "Epoch 13/50\n",
            "2800/2800 - 7s - loss: 0.2981 - accuracy: 0.8917 - val_loss: 0.2816 - val_accuracy: 0.8971 - 7s/epoch - 2ms/step\n",
            "Epoch 14/50\n",
            "2800/2800 - 6s - loss: 0.2952 - accuracy: 0.8935 - val_loss: 0.2814 - val_accuracy: 0.9016 - 6s/epoch - 2ms/step\n",
            "Epoch 15/50\n",
            "2800/2800 - 6s - loss: 0.2925 - accuracy: 0.8941 - val_loss: 0.2715 - val_accuracy: 0.9030 - 6s/epoch - 2ms/step\n",
            "Epoch 16/50\n",
            "2800/2800 - 10s - loss: 0.2899 - accuracy: 0.8956 - val_loss: 0.2757 - val_accuracy: 0.9034 - 10s/epoch - 4ms/step\n",
            "Epoch 17/50\n",
            "2800/2800 - 8s - loss: 0.2893 - accuracy: 0.8944 - val_loss: 0.2678 - val_accuracy: 0.9046 - 8s/epoch - 3ms/step\n",
            "Epoch 18/50\n",
            "2800/2800 - 14s - loss: 0.2885 - accuracy: 0.8950 - val_loss: 0.2709 - val_accuracy: 0.9036 - 14s/epoch - 5ms/step\n",
            "Epoch 19/50\n",
            "2800/2800 - 7s - loss: 0.2862 - accuracy: 0.8971 - val_loss: 0.2718 - val_accuracy: 0.9040 - 7s/epoch - 2ms/step\n",
            "Epoch 20/50\n",
            "2800/2800 - 10s - loss: 0.2846 - accuracy: 0.8974 - val_loss: 0.2703 - val_accuracy: 0.9049 - 10s/epoch - 4ms/step\n",
            "Epoch 21/50\n",
            "2800/2800 - 6s - loss: 0.2828 - accuracy: 0.8981 - val_loss: 0.2698 - val_accuracy: 0.9050 - 6s/epoch - 2ms/step\n",
            "Epoch 22/50\n",
            "2800/2800 - 7s - loss: 0.2823 - accuracy: 0.8973 - val_loss: 0.2680 - val_accuracy: 0.9056 - 7s/epoch - 3ms/step\n",
            "Epoch 23/50\n",
            "2800/2800 - 7s - loss: 0.2824 - accuracy: 0.8981 - val_loss: 0.2673 - val_accuracy: 0.9046 - 7s/epoch - 3ms/step\n",
            "Epoch 24/50\n",
            "2800/2800 - 10s - loss: 0.2801 - accuracy: 0.8993 - val_loss: 0.2676 - val_accuracy: 0.9052 - 10s/epoch - 4ms/step\n",
            "Epoch 25/50\n",
            "2800/2800 - 8s - loss: 0.2801 - accuracy: 0.8986 - val_loss: 0.2627 - val_accuracy: 0.9076 - 8s/epoch - 3ms/step\n",
            "Epoch 26/50\n",
            "2800/2800 - 6s - loss: 0.2786 - accuracy: 0.8994 - val_loss: 0.2598 - val_accuracy: 0.9075 - 6s/epoch - 2ms/step\n",
            "Epoch 27/50\n",
            "2800/2800 - 7s - loss: 0.2775 - accuracy: 0.8993 - val_loss: 0.2572 - val_accuracy: 0.9066 - 7s/epoch - 2ms/step\n",
            "Epoch 28/50\n",
            "2800/2800 - 6s - loss: 0.2761 - accuracy: 0.9005 - val_loss: 0.2665 - val_accuracy: 0.9064 - 6s/epoch - 2ms/step\n",
            "Epoch 29/50\n",
            "2800/2800 - 6s - loss: 0.2771 - accuracy: 0.8994 - val_loss: 0.2611 - val_accuracy: 0.9092 - 6s/epoch - 2ms/step\n",
            "Epoch 30/50\n",
            "2800/2800 - 6s - loss: 0.2742 - accuracy: 0.9018 - val_loss: 0.2566 - val_accuracy: 0.9088 - 6s/epoch - 2ms/step\n",
            "Epoch 31/50\n",
            "2800/2800 - 7s - loss: 0.2739 - accuracy: 0.9028 - val_loss: 0.2571 - val_accuracy: 0.9079 - 7s/epoch - 2ms/step\n",
            "Epoch 32/50\n",
            "2800/2800 - 6s - loss: 0.2730 - accuracy: 0.9018 - val_loss: 0.2527 - val_accuracy: 0.9114 - 6s/epoch - 2ms/step\n",
            "Epoch 33/50\n",
            "2800/2800 - 7s - loss: 0.2725 - accuracy: 0.9016 - val_loss: 0.2549 - val_accuracy: 0.9106 - 7s/epoch - 2ms/step\n",
            "Epoch 34/50\n",
            "2800/2800 - 6s - loss: 0.2711 - accuracy: 0.9026 - val_loss: 0.2562 - val_accuracy: 0.9080 - 6s/epoch - 2ms/step\n",
            "Epoch 35/50\n",
            "2800/2800 - 6s - loss: 0.2701 - accuracy: 0.9041 - val_loss: 0.2627 - val_accuracy: 0.9053 - 6s/epoch - 2ms/step\n",
            "Epoch 36/50\n",
            "2800/2800 - 5s - loss: 0.2697 - accuracy: 0.9027 - val_loss: 0.2516 - val_accuracy: 0.9111 - 5s/epoch - 2ms/step\n",
            "Epoch 37/50\n",
            "2800/2800 - 6s - loss: 0.2675 - accuracy: 0.9031 - val_loss: 0.2580 - val_accuracy: 0.9081 - 6s/epoch - 2ms/step\n",
            "Epoch 38/50\n",
            "2800/2800 - 6s - loss: 0.2680 - accuracy: 0.9041 - val_loss: 0.2484 - val_accuracy: 0.9128 - 6s/epoch - 2ms/step\n",
            "Epoch 39/50\n",
            "2800/2800 - 8s - loss: 0.2655 - accuracy: 0.9044 - val_loss: 0.2466 - val_accuracy: 0.9149 - 8s/epoch - 3ms/step\n",
            "Epoch 40/50\n",
            "2800/2800 - 9s - loss: 0.2659 - accuracy: 0.9049 - val_loss: 0.2522 - val_accuracy: 0.9124 - 9s/epoch - 3ms/step\n",
            "Epoch 41/50\n",
            "2800/2800 - 7s - loss: 0.2653 - accuracy: 0.9043 - val_loss: 0.2537 - val_accuracy: 0.9111 - 7s/epoch - 3ms/step\n",
            "Epoch 42/50\n",
            "2800/2800 - 7s - loss: 0.2634 - accuracy: 0.9057 - val_loss: 0.2521 - val_accuracy: 0.9112 - 7s/epoch - 3ms/step\n",
            "Epoch 43/50\n",
            "2800/2800 - 10s - loss: 0.2621 - accuracy: 0.9065 - val_loss: 0.2555 - val_accuracy: 0.9109 - 10s/epoch - 4ms/step\n",
            "Epoch 44/50\n",
            "2800/2800 - 6s - loss: 0.2626 - accuracy: 0.9058 - val_loss: 0.2468 - val_accuracy: 0.9104 - 6s/epoch - 2ms/step\n",
            "Epoch 45/50\n",
            "2800/2800 - 7s - loss: 0.2621 - accuracy: 0.9058 - val_loss: 0.2492 - val_accuracy: 0.9122 - 7s/epoch - 2ms/step\n",
            "Epoch 46/50\n",
            "2800/2800 - 9s - loss: 0.2617 - accuracy: 0.9047 - val_loss: 0.2475 - val_accuracy: 0.9121 - 9s/epoch - 3ms/step\n",
            "Epoch 47/50\n",
            "2800/2800 - 10s - loss: 0.2603 - accuracy: 0.9063 - val_loss: 0.2446 - val_accuracy: 0.9114 - 10s/epoch - 4ms/step\n",
            "Epoch 48/50\n",
            "2800/2800 - 8s - loss: 0.2603 - accuracy: 0.9072 - val_loss: 0.2437 - val_accuracy: 0.9135 - 8s/epoch - 3ms/step\n",
            "Epoch 49/50\n",
            "2800/2800 - 8s - loss: 0.2582 - accuracy: 0.9061 - val_loss: 0.2554 - val_accuracy: 0.9091 - 8s/epoch - 3ms/step\n",
            "Epoch 50/50\n",
            "2800/2800 - 6s - loss: 0.2604 - accuracy: 0.9063 - val_loss: 0.2424 - val_accuracy: 0.9139 - 6s/epoch - 2ms/step\n",
            "938/938 [==============================] - 2s 2ms/step - loss: 0.4932 - accuracy: 0.9162\n",
            "Test accuracy: 0.9162333607673645\n",
            "938/938 [==============================] - 3s 3ms/step\n",
            "[[16663   296   828]\n",
            " [  487  5267    21]\n",
            " [  867    14  5557]]\n",
            "              precision    recall  f1-score   support\n",
            "\n",
            "           0       0.92      0.94      0.93     17787\n",
            "           1       0.94      0.91      0.93      5775\n",
            "           2       0.87      0.86      0.87      6438\n",
            "\n",
            "    accuracy                           0.92     30000\n",
            "   macro avg       0.91      0.90      0.91     30000\n",
            "weighted avg       0.92      0.92      0.92     30000\n",
            "\n"
          ]
        },
        {
          "output_type": "display_data",
          "data": {
            "text/plain": [
              "<Figure size 800x600 with 0 Axes>"
            ]
          },
          "metadata": {}
        },
        {
          "output_type": "display_data",
          "data": {
            "text/plain": [
              "<Figure size 480x480 with 1 Axes>"
            ],
            "image/png": "[encoded data removed]"
          },
          "metadata": {}
        }
      ],
      "source": [
        "# sequential model\n",
        "from keras.models import Sequential\n",
        "from keras.layers import Dense, Dropout, Input\n",
        "\n",
        "# Create a Sequential model\n",
        "model = Sequential()\n",
        "\n",
        "model.add(Input(shape=(9,)))\n",
        "model.add(Dense(18, activation='relu', name='hidden1'))\n",
        "model.add(Dense(18, activation='relu', name='hidden2'))\n",
        "model.add(Dropout(0.2))\n",
        "model.add(Dense(18, activation='relu', name='hidden3'))\n",
        "model.add(Dense(3, activation='softmax', name='output'))\n",
        "\n",
        "model.compile(optimizer='adam', loss='sparse_categorical_crossentropy', metrics=['accuracy'])\n",
        "model.summary()\n",
        "\n",
        "# Train the model\n",
        "model.fit(X_train, y_train, epochs=50, batch_size=20, verbose=2, validation_split=0.2)\n",
        "\n",
        "# Evaluate the model\n",
        "test_loss, test_acc = model.evaluate(X_test, y_test)\n",
        "print('Test accuracy:', test_acc)\n",
        "\n",
        "# Predictions\n",
        "predictions = model.predict(X_test)\n",
        "predictions = np.argmax(predictions, axis=1)\n",
        "\n",
        "# Evaluate the model\n",
        "print(confusion_matrix(y_test, predictions))\n",
        "print(classification_report(y_test, predictions))\n",
        "\n",
        "# Plot the confusion matrix\n",
        "plt.figure(figsize=(8,6))\n",
        "cm = confusion_matrix(y_test, predictions)\n",
        "plt.matshow(cm, cmap='Blues')\n",
        "\n",
        "for i in range(cm.shape[0]):\n",
        "    for j in range(cm.shape[1]):\n",
        "        plt.text(x=j, y=i, s=cm[i, j], va='center', ha='center')\n",
        "\n",
        "plt.xlabel('Predicted label')\n",
        "plt.ylabel('True label')\n",
        "plt.title('Confusion Matrix')\n",
        "plt.show()\n"
      ]
    },
    {
      "cell_type": "markdown",
      "metadata": {
        "id": "_Yk1yqIEDFZH"
      },
      "source": [
        "### (4) Evaluate Model (Sequential Model)"
      ]
    },
    {
      "cell_type": "code",
      "execution_count": 27,
      "metadata": {
        "id": "Mg4iJGWGDFZH",
        "outputId": "d5f1ebfd-d2c3-4af4-9131-4845938dd5af",
        "colab": {
          "base_uri": "https://localhost:8080/"
        }
      },
      "outputs": [
        {
          "output_type": "stream",
          "name": "stdout",
          "text": [
            "Accuracy: 0.92\n",
            "Precision: 0.92\n",
            "Recall: 0.92\n",
            "F1 score: 0.92\n"
          ]
        }
      ],
      "source": [
        "# Accuracy\n",
        "accuracy = accuracy_score(y_test, predictions)\n",
        "print('Accuracy: %.2f' % accuracy)\n",
        "\n",
        "# Precision\n",
        "precision = precision_score(y_test, predictions, average='weighted')\n",
        "print('Precision: %.2f' % precision)\n",
        "\n",
        "# Recall\n",
        "recall = recall_score(y_test, predictions, average='weighted')\n",
        "print('Recall: %.2f' % recall)\n",
        "\n",
        "# F1\n",
        "f1 = f1_score(y_test, predictions, average='weighted')\n",
        "print('F1 score: %.2f' % f1)"
      ]
    },
    {
      "cell_type": "markdown",
      "metadata": {
        "id": "4ALIvQpwQ4hU"
      },
      "source": [
        "## (5) Lessons Learned\n",
        "\n"
      ]
    },
    {
      "cell_type": "markdown",
      "source": [
        "  # Stellar Dataset\n",
        "  With our dataset for stellar classification, a lot of the contextual meaning of the data was lost. It may have been rewarding to use a dataset with a more clear meaning to our group. However, it is also valuable to observe that viable stellar classification models can be trained by people who otherwise have little to no astronomy experience. This proves that machine learning can be a powerful tool to easily create predictions that would have otherwise taken a significant amount of knowledge.\n",
        "  # PCA\n",
        "  Though as a concept, PCA is rather simple, effective implementation of PCA ended up as the bulk of the work on this project. The *Explained Variance by Different Principal Components* Graph was particularly interesting. It allowed us to visualize the effect of PCA on the data. After determining the ideal number of components, only a few lines were necessary to actually do the PCA.\n",
        "  # Models\n",
        "  Because of our previous experience in the AI class, training and evaluating models was an easy task. Becase of this, we thought it would be interesting to compare the performance of multiple different models, inluding SciKitLearn's Multi-layered Perceptron Classifier, Decision Tree Classifier, Support Vector Machine Classifier, and a Sequential Classifier of our own making. Each model chosen has it's pros and cons. For example, despite having slightly worse results than the other models, the decision tree took much less time to train. In the end, however it seems our own Sequential model, reached better, or at least comparable accuraccies to the SciKitLearn models. If we had more time, it may have been interesting to implement our own Decision Tree and Support Vector Machine alongside our Sequential model. This would have made for much more interesting comparisons between our models and SciKitLearn's."
      ],
      "metadata": {
        "id": "MngAYSKWIK1M"
      }
    }
  ],
  "metadata": {
    "colab": {
      "provenance": []
    },
    "kernelspec": {
      "display_name": "Python 3",
      "name": "python3"
    },
    "language_info": {
      "codemirror_mode": {
        "name": "ipython",
        "version": 3
      },
      "file_extension": ".py",
      "mimetype": "text/x-python",
      "name": "python",
      "nbconvert_exporter": "python",
      "pygments_lexer": "ipython3",
      "version": "3.11.5"
    }
  },
  "nbformat": 4,
  "nbformat_minor": 0
}